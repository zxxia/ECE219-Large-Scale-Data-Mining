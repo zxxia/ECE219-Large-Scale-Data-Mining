{
 "cells": [
  {
   "cell_type": "markdown",
   "metadata": {},
   "source": [
    "# Package Import (Must Run)"
   ]
  },
  {
   "cell_type": "code",
   "execution_count": 1,
   "metadata": {
    "collapsed": true
   },
   "outputs": [],
   "source": [
    "import numpy as np\n",
    "from sklearn.datasets import fetch_20newsgroups\n",
    "import matplotlib.pyplot as plt\n",
    "%matplotlib inline\n",
    "from sklearn.feature_extraction.text import CountVectorizer, TfidfTransformer, ENGLISH_STOP_WORDS\n",
    "import string\n",
    "import re\n",
    "from nltk.stem import PorterStemmer\n",
    "from sklearn.decomposition import TruncatedSVD, NMF\n",
    "from sklearn.svm import SVC\n",
    "from sklearn.pipeline import Pipeline\n",
    "from sklearn.metrics import confusion_matrix, accuracy_score, precision_score, recall_score, roc_curve, auc\n",
    "from sklearn.linear_model import LogisticRegression\n",
    "from sklearn.cluster import KMeans\n",
    "from sklearn.naive_bayes import GaussianNB\n",
    "from \n",
    "\n",
    "from sklearn.model_selection import KFold, GridSearchCV"
   ]
  },
  {
   "cell_type": "markdown",
   "metadata": {},
   "source": [
    "# Constants and Helper Functions (Must Run)¶"
   ]
  },
  {
   "cell_type": "code",
   "execution_count": 13,
   "metadata": {
    "collapsed": true
   },
   "outputs": [],
   "source": [
    "#-----------------------------Constants-----------------------------------#\n",
    "# Number of components in Dimension Reduction\n",
    "k = 50\n",
    "\n",
    "\n",
    "COMPUTER_TECHNOLOGY = 0\n",
    "\n",
    "RECREATIONAL_ACTIVITY = 1\n",
    "\n",
    "# index of the last computer technology data group in variable 'categories'\n",
    "LAST_COMPUTER_TECHNOLOGY_INDEX = 3 \n",
    "\n",
    "\n",
    "#-----------------------------Helper Functions----------------------------#\n",
    "\n",
    "def tokenizer_stem(text):\n",
    "    # Convert each punctuation character to empty character.\n",
    "    punc_remove_map = text.maketrans('', '', string.punctuation)\n",
    "    text_no_punc = text.translate(punc_remove_map)\n",
    "    \n",
    "    # remove non-ascii characters\n",
    "    ascii_text_no_punc = \"\".join(ch for ch in text_no_punc if ord(ch) < 128) \n",
    "    \n",
    "    # Convert words that share the same stem to the stem\n",
    "    tokens = ascii_text_no_punc.split()\n",
    "    stemmer = PorterStemmer()\n",
    "    stemmed_tokens = [stemmer.stem(n) for n in tokens if not n.isdigit()]\n",
    "    return stemmed_tokens\n",
    "\n",
    "\n",
    "\n",
    "def get_target_values(target_array):\n",
    "    target_values = []\n",
    "    for n in range(target_array.shape[0]):\n",
    "        if target_array[n] <= LAST_COMPUTER_TECHNOLOGY_INDEX:\n",
    "            target_values.append(COMPUTER_TECHNOLOGY)\n",
    "        else:\n",
    "            target_values.append(RECREATIONAL_ACTIVITY)\n",
    "    return np.array(target_values)\n",
    "\n",
    "\n",
    "# Plotting ROC curve \n",
    "def plot_roc_curve(target_values, predicted_prob, roc_title):\n",
    "    fig, ax = plt.subplots()\n",
    "    fpr, tpr, thresholds = roc_curve(target_values, predicted_prob)\n",
    "    area_under_roc = auc(fpr,tpr)\n",
    "    ax.plot(fpr, tpr, lw=2, label= 'area under curve = %0.2f' % area_under_roc)\n",
    "    ax.plot([0,1], [0,1], 'r--')\n",
    "    ax.set_xlabel('False Positive Rate')\n",
    "    ax.set_ylabel('True Positive Rate')\n",
    "    ax.set_title(roc_title)\n",
    "    ax.legend(loc=\"lower right\")\n",
    "\n"
   ]
  },
  {
   "cell_type": "markdown",
   "metadata": {},
   "source": [
    "# Classification Preparation (Must Run)"
   ]
  },
  {
   "cell_type": "code",
   "execution_count": 14,
   "metadata": {
    "collapsed": true
   },
   "outputs": [],
   "source": [
    "# Extract datasets\n",
    "categories = ['comp.graphics',\n",
    "              'comp.os.ms-windows.misc',\n",
    "              'comp.sys.ibm.pc.hardware',\n",
    "              'comp.sys.mac.hardware',\n",
    "              'rec.autos',\n",
    "              'rec.motorcycles',\n",
    "              'rec.sport.baseball',\n",
    "              'rec.sport.hockey']\n",
    "\n",
    "eight_train = fetch_20newsgroups(subset='train', categories=categories, shuffle=True, random_state=42)\n",
    "eight_test = fetch_20newsgroups(subset='test', categories=categories, shuffle=True, random_state=42)\n",
    "\n",
    "# Set labels for binary classifiers\n",
    "eight_train_target = get_target_values(eight_train.target)\n",
    "eight_test_target = get_target_values(eight_test.target)\n",
    "\n",
    "# Initialize term count vectorizers\n",
    "count_vectorizer_min_df_3 = CountVectorizer(\n",
    "    analyzer = 'word',\n",
    "    stop_words = ENGLISH_STOP_WORDS,\n",
    "    min_df = 3\n",
    ")\n",
    "\n",
    "\n",
    "\n",
    "train_count_min_df_3 = count_vectorizer_min_df_3.fit_transform(eight_train.data)\n",
    "test_count_min_df_3 = count_vectorizer_min_df_3.transform(eight_test.data)\n",
    "\n",
    "\n",
    "# TFIDF transformer for problem c-j\n",
    "tfidf_transformer = TfidfTransformer()\n",
    "# Compute tfidf Matrices\n",
    "eight_train_tfidf_min_df_3 = tfidf_transformer.fit_transform(train_count_min_df_3)\n",
    "eight_test_tfidf_min_df_3 = tfidf_transformer.transform(test_count_min_df_3)\n",
    "\n",
    "\n"
   ]
  },
  {
   "cell_type": "markdown",
   "metadata": {},
   "source": [
    "# Problem 1"
   ]
  },
  {
   "cell_type": "code",
   "execution_count": 7,
   "metadata": {},
   "outputs": [
    {
     "name": "stdout",
     "output_type": "stream",
     "text": [
      "Dimensions of TF-IDF matrix: (4732, 20297)\n"
     ]
    }
   ],
   "source": [
    "print(\"Dimensions of TF-IDF matrix: \"+ str(eight_train_tfidf_min_df_3.shape))"
   ]
  },
  {
   "cell_type": "markdown",
   "metadata": {},
   "source": [
    "# Problem 2"
   ]
  },
  {
   "cell_type": "code",
   "execution_count": 15,
   "metadata": {},
   "outputs": [
    {
     "name": "stdout",
     "output_type": "stream",
     "text": [
      "[[2340    3]\n",
      " [1339 1050]]\n"
     ]
    }
   ],
   "source": [
    "\n",
    "kmeans = KMeans(n_clusters=2, random_state=42).fit(eight_train_tfidf_min_df_3)\n",
    "confusionmatrix = confusion_matrix(eight_train_target, kmeans.labels_, labels = [COMPUTER_TECHNOLOGY, RECREATIONAL_ACTIVITY])\n",
    "print(confusionmatrix)"
   ]
  },
  {
   "cell_type": "code",
   "execution_count": null,
   "metadata": {
    "collapsed": true
   },
   "outputs": [],
   "source": []
  },
  {
   "cell_type": "code",
   "execution_count": null,
   "metadata": {
    "collapsed": true
   },
   "outputs": [],
   "source": []
  },
  {
   "cell_type": "code",
   "execution_count": null,
   "metadata": {
    "collapsed": true
   },
   "outputs": [],
   "source": []
  }
 ],
 "metadata": {
  "kernelspec": {
   "display_name": "Python 3",
   "language": "python",
   "name": "python3"
  },
  "language_info": {
   "codemirror_mode": {
    "name": "ipython",
    "version": 3
   },
   "file_extension": ".py",
   "mimetype": "text/x-python",
   "name": "python",
   "nbconvert_exporter": "python",
   "pygments_lexer": "ipython3",
   "version": "3.6.3"
  }
 },
 "nbformat": 4,
 "nbformat_minor": 2
}
