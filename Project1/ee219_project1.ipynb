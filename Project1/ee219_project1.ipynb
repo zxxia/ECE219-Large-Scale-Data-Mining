{
 "cells": [
  {
   "cell_type": "markdown",
   "metadata": {},
   "source": [
    "# Problem a"
   ]
  },
  {
   "cell_type": "code",
   "execution_count": 8,
   "metadata": {
    "collapsed": true
   },
   "outputs": [],
   "source": [
    "import numpy as np"
   ]
  },
  {
   "cell_type": "code",
   "execution_count": 1,
   "metadata": {},
   "outputs": [
    {
     "name": "stderr",
     "output_type": "stream",
     "text": [
      "Downloading 20news dataset. This may take a few minutes.\n",
      "Downloading dataset from https://ndownloader.figshare.com/files/5975967 (14 MB)\n"
     ]
    }
   ],
   "source": [
    "from sklearn.datasets import fetch_20newsgroups\n",
    "categories = ['comp.graphics', 'comp.os.ms-windows.misc', 'comp.sys.ibm.pc.hardware', 'comp.sys.mac.hardware',\n",
    "              'rec.autos', 'rec.motorcycles', 'rec.sport.baseball', 'rec.sport.hockey']\n",
    "eight_train = fetch_20newsgroups(subset='train', categories=categories, shuffle=True, random_state=42)\n",
    "eight_test = fetch_20newsgroups(subset='test', categories=categories, shuffle=True, random_state=42)"
   ]
  },
  {
   "cell_type": "code",
   "execution_count": 2,
   "metadata": {},
   "outputs": [
    {
     "data": {
      "image/png": "[encoded data removed]",
      "text/plain": [
       "<matplotlib.figure.Figure at 0x1a0882e828>"
      ]
     },
     "metadata": {},
     "output_type": "display_data"
    }
   ],
   "source": [
    "# PLOTTING\n",
    "import matplotlib.pyplot as plt\n",
    "plt.hist(eight_train.target, bins = 16, align = 'mid')\n",
    "plt.title('Number of Docs per class')\n",
    "plt.ylabel('num of docs')\n",
    "plt.xticks(range(8),categories,rotation = 90)\n",
    "plt.xlim([-1,8])\n",
    "plt.ylim([0,1000])\n",
    "\n",
    "plt.show()"
   ]
  },
  {
   "cell_type": "markdown",
   "metadata": {},
   "source": [
    "# Problem b"
   ]
  },
  {
   "cell_type": "code",
   "execution_count": 3,
   "metadata": {},
   "outputs": [
    {
     "name": "stdout",
     "output_type": "stream",
     "text": [
      "Final Number of Terms Extracted :21842\n",
      "Final Number of Terms Extracted :8928\n"
     ]
    }
   ],
   "source": [
    "# TOKENIZER\n",
    "from sklearn.feature_extraction.text import CountVectorizer\n",
    "\n",
    "from sklearn.feature_extraction import text\n",
    "\n",
    "import nltk\n",
    "import string\n",
    "import re\n",
    "\n",
    "from nltk.stem import PorterStemmer\n",
    "stemmer = PorterStemmer()\n",
    "\n",
    "def tokenizer_stem(text):\n",
    "    # Convert each punctuation character to empty character.\n",
    "    punc_remove_map = text.maketrans('', '', string.punctuation)\n",
    "    text_no_punc = text.translate(punc_remove_map)\n",
    "    \n",
    "    # remove non-ascii characters\n",
    "    ascii_text_no_punc = \"\".join(ch for ch in text_no_punc if ord(ch) < 128) \n",
    "    \n",
    "    # Convert words that share the same stem to the stem\n",
    "    tokens = ascii_text_no_punc.split()\n",
    "    stemmed_tokens = [stemmer.stem(n) for n in tokens]\n",
    "    return stemmed_tokens\n",
    "\n",
    "stop_words = text.ENGLISH_STOP_WORDS\n",
    "\n",
    "count_vectorizer_min_df_2 = CountVectorizer(analyzer = 'word', tokenizer = tokenizer_stem,\n",
    "                                            stop_words = stop_words,min_df = 2)\n",
    "count_vectorizer_min_df_5 = CountVectorizer(analyzer = 'word', tokenizer = tokenizer_stem,\n",
    "                                            stop_words = stop_words,min_df = 5)\n",
    "\n",
    "count_min_df_2 = count_vectorizer_min_df_2.fit_transform(eight_train.data)\n",
    "count_min_df_5 = count_vectorizer_min_df_5.fit_transform(eight_train.data)\n",
    "\n",
    "print (\"Final Number of Terms Extracted :\" + str(count_min_df_2.shape[1]))\n",
    "print (\"Final Number of Terms Extracted :\" + str(count_min_df_5.shape[1]))"
   ]
  },
  {
   "cell_type": "code",
   "execution_count": 4,
   "metadata": {
    "collapsed": true
   },
   "outputs": [],
   "source": [
    "from sklearn.feature_extraction.text import TfidfTransformer\n",
    "tfidf_transformer = TfidfTransformer() # TFIDF transformer for problem c and problem d"
   ]
  },
  {
   "cell_type": "markdown",
   "metadata": {},
   "source": [
    "# Problem c"
   ]
  },
  {
   "cell_type": "code",
   "execution_count": 5,
   "metadata": {},
   "outputs": [
    {
     "name": "stdout",
     "output_type": "stream",
     "text": [
      "10 most significant terms for comp.sys.ibm.pc.hardware ['control', 'card', 'organ', 'subject', 'line', 'use', 'ide', 'thi', 'scsi', 'drive']\n",
      "10 most significant terms for comp.sys.mac.hardware ['problem', 'appl', 'simm', 'quadra', 'use', 'organ', 'subject', 'mac', 'line', 'thi']\n",
      "10 most significant terms for misc.forsale ['use', 'new', 'thi', 'univers', '2', 'organ', 'sale', '1', 'subject', 'line']\n",
      "10 most significant terms for soc.religion.christian ['line', 'peopl', 'subject', 'church', 'hi', 'jesu', 'christian', 'wa', 'god', 'thi']\n"
     ]
    }
   ],
   "source": [
    "from sklearn.datasets import fetch_20newsgroups\n",
    "twenty_train = fetch_20newsgroups(subset='train')\n",
    "twenty_train_target = twenty_train.target_names  # extract all the class names\n",
    "\n",
    "\n",
    "allwords = []\n",
    "# organize words in 20 categories of data in one matrix\n",
    "for counter in range(20):\n",
    "    allwords.append(\"\")\n",
    "for index in range(len(twenty_train.data)):\n",
    "    category = twenty_train.target[index]\n",
    "    allwords[category] = allwords[category] + \" \" + twenty_train.data[index]\n",
    "    \n",
    "#define a function to extract 10 most significant terms\n",
    "def ten_most_significant_terms(index):\n",
    "    topwords = []\n",
    "    presentclass = allwords_tficf.toarray()[index]\n",
    "    topindices = sorted(range(len(presentclass)), key = lambda index: presentclass[index])[-10:]\n",
    "    for index in topindices:\n",
    "        topwords.append(count_vectorizer_min_df_2.get_feature_names()[index])\n",
    "    return topwords\n",
    "\n",
    "#After stemming and tokenizing, performing tficf    \n",
    "allwords_count_min_df_2 = count_vectorizer_min_df_2.fit_transform(allwords)\n",
    "allwords_tficf = tfidf_transformer.fit_transform(allwords_count_min_df_2)\n",
    "\n",
    "index_ibm = twenty_train_target.index(\"comp.sys.ibm.pc.hardware\")\n",
    "index_mac = twenty_train_target.index(\"comp.sys.mac.hardware\")\n",
    "index_forsale = twenty_train_target.index(\"misc.forsale\")\n",
    "index_christian = twenty_train_target.index(\"soc.religion.christian\")\n",
    "\n",
    "most_significant_words_ibm = ten_most_significant_terms(index_ibm)\n",
    "most_significant_words_mac = ten_most_significant_terms(index_mac)\n",
    "most_significant_words_forsale = ten_most_significant_terms(index_forsale)\n",
    "most_significant_words_christian = ten_most_significant_terms(index_christian)\n",
    "\n",
    "print(\"10 most significant terms for comp.sys.ibm.pc.hardware\", most_significant_words_ibm)\n",
    "print(\"10 most significant terms for comp.sys.mac.hardware\", most_significant_words_mac)\n",
    "print(\"10 most significant terms for misc.forsale\", most_significant_words_forsale)\n",
    "print(\"10 most significant terms for soc.religion.christian\", most_significant_words_christian)"
   ]
  },
  {
   "cell_type": "markdown",
   "metadata": {},
   "source": [
    "# Problem d"
   ]
  },
  {
   "cell_type": "code",
   "execution_count": 6,
   "metadata": {},
   "outputs": [
    {
     "name": "stdout",
     "output_type": "stream",
     "text": [
      "(4732, 21842)\n",
      "(4732, 8928)\n",
      "(4732, 50)\n",
      "(4732, 50)\n",
      "(4732, 50)\n",
      "(4732, 50)\n"
     ]
    }
   ],
   "source": [
    "from sklearn.decomposition import TruncatedSVD\n",
    "from sklearn.decomposition import NMF\n",
    "\n",
    "# Compute tfidf matrix\n",
    "eight_train_tfidf_min_df_2 = tfidf_transformer.fit_transform(count_min_df_2)\n",
    "eight_train_tfidf_min_df_5 = tfidf_transformer.fit_transform(count_min_df_5)\n",
    "\n",
    "\n",
    "k = 50\n",
    "\n",
    "# Latent Sematic Analysis(LSA)\n",
    "lsa_model = TruncatedSVD(n_components=k, random_state=42)\n",
    "# Dense matrices computed using LSA\n",
    "eight_train_tfidf_min_df_2_lsa = lsa_model.fit_transform(eight_train_tfidf_min_df_2)\n",
    "eight_train_tfidf_min_df_5_lsa = lsa_model.fit_transform(eight_train_tfidf_min_df_5)\n",
    "\n",
    "print(eight_train_tfidf_min_df_2.shape)\n",
    "print(eight_train_tfidf_min_df_5.shape)\n",
    "\n",
    "print(eight_train_tfidf_min_df_2_lsa.shape)\n",
    "print(eight_train_tfidf_min_df_5_lsa.shape)\n",
    "\n",
    "\n",
    "\n",
    "# Non-Negative Matrix Factorization (NMF)\n",
    "nmf_model = NMF(k, random_state = 42)\n",
    "# Dense matrices computed using NMF\n",
    "eight_train_tfidf_min_df_2_nmf = nmf_model.fit_transform(eight_train_tfidf_min_df_2)\n",
    "eight_train_tfidf_min_df_5_nmf = nmf_model.fit_transform(eight_train_tfidf_min_df_2)\n",
    "print(eight_train_tfidf_min_df_2_nmf.shape)\n",
    "print(eight_train_tfidf_min_df_5_nmf.shape)"
   ]
  },
  {
   "cell_type": "markdown",
   "metadata": {},
   "source": [
    "# Problem e"
   ]
  },
  {
   "cell_type": "code",
   "execution_count": 35,
   "metadata": {},
   "outputs": [],
   "source": [
    "from sklearn.svm import SVC\n",
    "from sklearn.pipeline import Pipeline\n",
    "from sklearn.metrics import confusion_matrix, accuracy_score, precision_score, recall_score, roc_curve, auc\n",
    "\n",
    "COMPUTER_TECHNOLOGY = 0\n",
    "RECREATIONAL_ACTIVITY = 1\n",
    "\n",
    "# index of the last computer technology data group in variable 'categories'\n",
    "LAST_COMPUTER_TECHNOLOGY_INDEX = 3\n",
    "def get_target_values(target_array):\n",
    "    target_values = []\n",
    "    for n in range(target_array.shape[0]):\n",
    "        if target_array[n] <= LAST_COMPUTER_TECHNOLOGY_INDEX:\n",
    "            target_values.append(COMPUTER_TECHNOLOGY)\n",
    "        else:\n",
    "            target_values.append(RECREATIONAL_ACTIVITY)\n",
    "    return np.array(target_values)\n",
    "\n",
    "\n",
    "# Plotting ROC curve \n",
    "def plot_roc_curve(target_values, predicted_prob, roc_title):\n",
    "    \n",
    "    fpr, tpr, thresholds = roc_curve(target_values, predicted_prob)\n",
    "    area_under_roc = auc(fpr,tpr)\n",
    "    plt.plot(fpr, tpr, lw=2, label= 'area under curve = %0.2f' % area_under_roc)\n",
    "    plt.plot([0,1], [0,1], 'r--')\n",
    "    plt.xlabel('False Positive Rate')\n",
    "    plt.ylabel('True Positive Rate')\n",
    "    plt.title(roc_title)\n",
    "    plt.legend(loc=\"lower right\")\n",
    "    plt.show()\n",
    "\n",
    "\n",
    "# confusion matrix, accuracy, recall and precision\n",
    "def compute_prediction_stats(target_values, predicted_data):\n",
    "    \n",
    "    confusionmatrix = confusion_matrix(target_values, predicted_data)\n",
    "    accuracy = accuracy_score(target_values, predicted_data)\n",
    "    precision = precision_score(target_values, predicted_data)\n",
    "    recall = recall_score(target_values, predicted_data)\n",
    "    print(\"confusion matrix\")\n",
    "    print(confusionmatrix)\n",
    "    print(\"accuracy =\",accuracy)\n",
    "    print(\"precision =\", precision)\n",
    "    print(\"recall =\",recall)\n",
    "    \n",
    "eight_train_target = get_target_values(eight_train.target)\n",
    "eight_test_target = get_target_values(eight_test.target)"
   ]
  },
  {
   "cell_type": "code",
   "execution_count": 18,
   "metadata": {},
   "outputs": [
    {
     "data": {
      "image/png": "[encoded data removed]",
      "text/plain": [
       "<matplotlib.figure.Figure at 0x1a15ab3630>"
      ]
     },
     "metadata": {},
     "output_type": "display_data"
    },
    {
     "name": "stdout",
     "output_type": "stream",
     "text": [
      "confusion matrix\n",
      "[[1515   45]\n",
      " [  24 1566]]\n",
      "accuracy = 0.978095238095\n",
      "precision = 0.972067039106\n",
      "recall = 0.984905660377\n"
     ]
    }
   ],
   "source": [
    "#performing hard margin SVM classifier for min_df = 2 using LSI\n",
    "hard_min2_pipelined = Pipeline([\n",
    "                                ('vect', count_vectorizer_min_df_2),\n",
    "                                ('tfidf', tfidf_transformer),\n",
    "                                ('svd', lsa_model),\n",
    "                                ('clf', SVC(C = 1000, kernel = 'linear', probability = True))\n",
    "])\n",
    "\n",
    "\n",
    "hard_min2_pipelined = hard_min2_pipelined.fit(eight_train.data, eight_train_target)\n",
    "predicted_prob = hard_min2_pipelined.predict_proba(eight_test.data)[:,1]\n",
    "predicted_data = hard_min2_pipelined.predict(eight_test.data)\n",
    "\n",
    "roc_title = 'ROC curve for hard margin SVM with min_df = 2 using LSI'\n",
    "plot_roc_curve(eight_test_target, predicted_prob, roc_title)\n",
    "compute_prediction_stats(eight_test_target, predicted_data)"
   ]
  },
  {
   "cell_type": "code",
   "execution_count": 19,
   "metadata": {},
   "outputs": [
    {
     "data": {
      "image/png": "[encoded data removed]",
      "text/plain": [
       "<matplotlib.figure.Figure at 0x1a163df0b8>"
      ]
     },
     "metadata": {},
     "output_type": "display_data"
    },
    {
     "name": "stdout",
     "output_type": "stream",
     "text": [
      "confusion matrix\n",
      "[[   0 1560]\n",
      " [   0 1590]]\n",
      "accuracy = 0.504761904762\n",
      "precision = 0.504761904762\n",
      "recall = 1.0\n"
     ]
    }
   ],
   "source": [
    "# performing soft margin SVM classifier for min_df = 2 using LSI\n",
    "soft_min2_pipelined = Pipeline([\n",
    "                                ('vect', count_vectorizer_min_df_2),\n",
    "                                ('tfidf', tfidf_transformer),\n",
    "                                ('svd', lsa_model),\n",
    "                                ('clf', SVC(C = 0.001, kernel = 'linear',  probability = True))\n",
    "])\n",
    "\n",
    "soft_min2_pipelined = soft_min2_pipelined.fit(eight_train.data, eight_train_target)\n",
    "predicted_prob = soft_min2_pipelined.predict_proba(eight_test.data)[:,1]\n",
    "predicted_data = soft_min2_pipelined.predict(eight_test.data)\n",
    "\n",
    "roc_title = 'ROC curve for soft margin SVM with min_df = 2 using LSI'\n",
    "plot_roc_curve(eight_test_target, predicted_prob, roc_title)\n",
    "compute_prediction_stats(eight_test_target, predicted_data)"
   ]
  },
  {
   "cell_type": "code",
   "execution_count": 20,
   "metadata": {},
   "outputs": [
    {
     "data": {
      "image/png": "[encoded data removed]",
      "text/plain": [
       "<matplotlib.figure.Figure at 0x1a15c1feb8>"
      ]
     },
     "metadata": {},
     "output_type": "display_data"
    },
    {
     "name": "stdout",
     "output_type": "stream",
     "text": [
      "confusion matrix\n",
      "[[1516   44]\n",
      " [  25 1565]]\n",
      "accuracy = 0.978095238095\n",
      "precision = 0.97265382225\n",
      "recall = 0.98427672956\n"
     ]
    }
   ],
   "source": [
    "#performing hard margin SVM classifier for min_df = 5 using LSI\n",
    "hard_min5_pipelined = Pipeline([\n",
    "                                ('vect', count_vectorizer_min_df_5),\n",
    "                                ('tfidf', tfidf_transformer),\n",
    "                                ('svd', lsa_model),\n",
    "                                ('clf', SVC(C = 1000,kernel = 'linear', probability = True))\n",
    "])\n",
    "\n",
    "\n",
    "hard_min5_pipelined = hard_min5_pipelined.fit(eight_train.data, eight_train_target)\n",
    "predicted_prob = hard_min5_pipelined.predict_proba(eight_test.data)[:,1]\n",
    "predicted_data = hard_min5_pipelined.predict(eight_test.data)\n",
    "\n",
    "roc_title = 'ROC curve for hard margin SVM with min_df = 5 using LSI'\n",
    "plot_roc_curve(eight_test_target, predicted_prob, roc_title)\n",
    "compute_prediction_stats(eight_test_target, predicted_data)"
   ]
  },
  {
   "cell_type": "code",
   "execution_count": 21,
   "metadata": {},
   "outputs": [
    {
     "data": {
      "image/png": "[encoded data removed]",
      "text/plain": [
       "<matplotlib.figure.Figure at 0x1a0b25f7f0>"
      ]
     },
     "metadata": {},
     "output_type": "display_data"
    },
    {
     "name": "stdout",
     "output_type": "stream",
     "text": [
      "confusion matrix\n",
      "[[   0 1560]\n",
      " [   0 1590]]\n",
      "accuracy = 0.504761904762\n",
      "precision = 0.504761904762\n",
      "recall = 1.0\n"
     ]
    }
   ],
   "source": [
    "#performing soft margin SVM classifier for min_df = 5 using LSI\n",
    "soft_min5_pipelined = Pipeline([\n",
    "                                ('vect', count_vectorizer_min_df_5),\n",
    "                                ('tfidf', tfidf_transformer),\n",
    "                                ('svd', lsa_model),\n",
    "                                ('clf', SVC(C = 0.001,kernel = 'linear',probability = True))\n",
    "])\n",
    "\n",
    "soft_min5_pipelined = soft_min5_pipelined.fit(eight_train.data, eight_train_target)\n",
    "predicted_prob = soft_min5_pipelined.predict_proba(eight_test.data)[:,1]\n",
    "predicted_data = soft_min5_pipelined.predict(eight_test.data)\n",
    "\n",
    "roc_title = 'ROC curve for soft margin SVM with min_df = 5 using LSI'\n",
    "plot_roc_curve(eight_test_target, predicted_prob, roc_title)\n",
    "compute_prediction_stats(eight_test_target, predicted_data)"
   ]
  },
  {
   "cell_type": "code",
   "execution_count": 22,
   "metadata": {},
   "outputs": [
    {
     "data": {
      "image/png": "[encoded data removed]",
      "text/plain": [
       "<matplotlib.figure.Figure at 0x1a0b864a90>"
      ]
     },
     "metadata": {},
     "output_type": "display_data"
    },
    {
     "name": "stdout",
     "output_type": "stream",
     "text": [
      "confusion matrix\n",
      "[[1496   64]\n",
      " [  25 1565]]\n",
      "accuracy = 0.971746031746\n",
      "precision = 0.960712093309\n",
      "recall = 0.98427672956\n"
     ]
    }
   ],
   "source": [
    "#performing hard margin SVM classifier for min_df = 2 using NMF\n",
    "hard_min2_pipelined = Pipeline([\n",
    "                                ('vect', count_vectorizer_min_df_5),\n",
    "                                ('tfidf', tfidf_transformer),\n",
    "                                ('svd', nmf_model),\n",
    "                                ('clf', SVC(C = 1000,kernel = 'linear', probability = True))\n",
    "])\n",
    "\n",
    "\n",
    "hard_min2_pipelined = hard_min2_pipelined.fit(eight_train.data, eight_train_target)\n",
    "predicted_prob = hard_min2_pipelined.predict_proba(eight_test.data)[:,1]\n",
    "predicted_data = hard_min2_pipelined.predict(eight_test.data)\n",
    "\n",
    "roc_title = 'ROC curve for hard margin SVM with min_df = 2 using NMF'\n",
    "plot_roc_curve(eight_test_target, predicted_prob, roc_title)\n",
    "compute_prediction_stats(eight_test_target, predicted_data)"
   ]
  },
  {
   "cell_type": "code",
   "execution_count": 15,
   "metadata": {},
   "outputs": [
    {
     "data": {
      "image/png": "[encoded data removed]",
      "text/plain": [
       "<matplotlib.figure.Figure at 0x1a0a57d1d0>"
      ]
     },
     "metadata": {},
     "output_type": "display_data"
    },
    {
     "name": "stdout",
     "output_type": "stream",
     "text": [
      "confusion matrix\n",
      "[[   0 1560]\n",
      " [   0 1590]]\n",
      "accuracy = 0.504761904762\n",
      "precision = 0.504761904762\n",
      "recall = 1.0\n"
     ]
    }
   ],
   "source": [
    "#performing soft margin SVM classifier for min_df = 2 using NMF\n",
    "hard_min2_pipelined = Pipeline([\n",
    "                                ('vect', count_vectorizer_min_df_5),\n",
    "                                ('tfidf', tfidf_transformer),\n",
    "                                ('svd', nmf_model),\n",
    "                                ('clf', SVC(C = 0.001,kernel = 'linear', probability = True))\n",
    "])\n",
    "\n",
    "\n",
    "hard_min2_pipelined = hard_min2_pipelined.fit(eight_train.data, eight_train_target)\n",
    "predicted_prob = hard_min5_pipelined.predict_proba(eight_test.data)[:,1]\n",
    "predicted_data = hard_min5_pipelined.predict(eight_test.data)\n",
    "\n",
    "roc_title = 'ROC curve for soft margin SVM with min_df = 2 using NMF'\n",
    "plot_roc_curve(eight_test_target, predicted_prob, roc_title)\n",
    "compute_prediction_stats(eight_test_target, predicted_data)"
   ]
  },
  {
   "cell_type": "markdown",
   "metadata": {},
   "source": [
    "# Problem f"
   ]
  },
  {
   "cell_type": "code",
   "execution_count": 28,
   "metadata": {},
   "outputs": [],
   "source": [
    "from sklearn.model_selection import KFold\n",
    "kf = KFold(n_splits = 5)"
   ]
  },
  {
   "cell_type": "code",
   "execution_count": 41,
   "metadata": {},
   "outputs": [
    {
     "name": "stdout",
     "output_type": "stream",
     "text": [
      "gamma coefficient = -3\n",
      "0.458289334741\n",
      "0.465681098205\n",
      "0.510570824524\n",
      "0.508456659619\n",
      "0.512684989429\n",
      "gamma coefficient = -2\n",
      "0.458289334741\n",
      "0.466737064414\n",
      "0.512684989429\n",
      "0.509513742072\n",
      "0.514799154334\n",
      "gamma coefficient = -1\n",
      "0.963041182682\n",
      "0.971488912355\n",
      "0.957716701903\n",
      "0.969344608879\n",
      "0.973572938689\n",
      "gamma coefficient = 0\n",
      "0.971488912355\n",
      "0.974656810982\n",
      "0.966173361522\n",
      "0.973572938689\n",
      "0.977801268499\n",
      "gamma coefficient = 1\n",
      "0.975712777191\n",
      "0.974656810982\n",
      "0.968287526427\n",
      "0.975687103594\n",
      "0.982029598309\n",
      "gamma coefficient = 2\n",
      "0.972544878564\n",
      "0.980992608237\n",
      "0.973572938689\n",
      "0.974630021142\n",
      "0.979915433404\n",
      "gamma coefficient = 3\n",
      "0.974656810982\n",
      "0.980992608237\n",
      "0.970401691332\n",
      "0.971458773784\n",
      "0.983086680761\n",
      "confusion matrix\n",
      "[[1515   45]\n",
      " [  24 1566]]\n",
      "accuracy = 0.978095238095\n",
      "precision = 0.972067039106\n",
      "recall = 0.984905660377\n"
     ]
    }
   ],
   "source": [
    "# min_df = 2 using LSI to calculate best gamma \n",
    "max_accuracy = 0\n",
    "for i in range (-3,4):\n",
    "    print(\"gamma coefficient =\",i)\n",
    "    for train, test in kf.split(eight_train.data):\n",
    "        train_i = np.array(eight_train.data)[train]\n",
    "        train_j = eight_train_target[train]\n",
    "        test_i = np.array(eight_train.data)[test]\n",
    "        test_j = eight_train_target[test]\n",
    "        lsa_pipelined_min2 = Pipeline([\n",
    "                                       ('vect', count_vectorizer_min_df_2),\n",
    "                                       ('tfidf', tfidf_transformer),\n",
    "                                       ('svd', lsa_model),\n",
    "                                       ('clf', SVC(C = 10**i,kernel = 'linear', probability = True))\n",
    "])\n",
    "        lsa_pipelined_min2 = lsa_pipelined_min2.fit(train_i,train_j)\n",
    "        predicted_data = lsa_pipelined_min2.predict(test_i)\n",
    "        accuracy = np.mean(predicted_data == test_j)\n",
    "        print(accuracy)\n",
    "        if accuracy > max_accuracy:\n",
    "            max_accuracy = accuracy\n",
    "            lsa_pipelined_min2_final = lsa_pipelined_min2\n",
    "\n",
    "lsa_pipelined_min2_final = lsa_pipelined_min2_final.fit(eight_train.data, eight_train_target)\n",
    "#predicted_prob = hard_min5_pipelined.predict_proba(eight_test.data)[:,1]\n",
    "predicted_data = lsa_pipelined_min2_final.predict(eight_test.data)\n",
    "\n",
    "#roc_title = 'ROC curve for hard margin SVM with min_df = 5 using LSI'\n",
    "#plot_roc_curve(eight_test_target, predicted_prob, roc_title)\n",
    "compute_prediction_stats(eight_test_target, predicted_data)\n",
    "           "
   ]
  },
  {
   "cell_type": "code",
   "execution_count": 42,
   "metadata": {},
   "outputs": [
    {
     "name": "stdout",
     "output_type": "stream",
     "text": [
      "gamma coefficient = -3\n",
      "0.458289334741\n",
      "0.465681098205\n",
      "0.510570824524\n",
      "0.508456659619\n",
      "0.512684989429\n",
      "gamma coefficient = -2\n",
      "0.460401267159\n",
      "0.495248152059\n",
      "0.521141649049\n",
      "0.520084566596\n",
      "0.531712473573\n",
      "gamma coefficient = -1\n",
      "0.963041182682\n",
      "0.970432946146\n",
      "0.959830866808\n",
      "0.966173361522\n",
      "0.971458773784\n",
      "gamma coefficient = 0\n",
      "0.974656810982\n",
      "0.973600844773\n",
      "0.966173361522\n",
      "0.970401691332\n",
      "0.976744186047\n",
      "gamma coefficient = 1\n",
      "0.975712777191\n",
      "0.973600844773\n",
      "0.970401691332\n",
      "0.971458773784\n",
      "0.978858350951\n",
      "gamma coefficient = 2\n",
      "0.971488912355\n",
      "0.9767687434\n",
      "0.966173361522\n",
      "0.972515856237\n",
      "0.977801268499\n",
      "gamma coefficient = 3\n",
      "0.972544878564\n",
      "0.978880675818\n",
      "0.966173361522\n",
      "0.972515856237\n",
      "0.978858350951\n",
      "confusion matrix\n",
      "[[1516   44]\n",
      " [  25 1565]]\n",
      "accuracy = 0.978095238095\n",
      "precision = 0.97265382225\n",
      "recall = 0.98427672956\n"
     ]
    }
   ],
   "source": [
    "# min_df = 5 using LSI to calculate best gamma \n",
    "max_accuracy = 0\n",
    "for i in range (-3,4):\n",
    "    print(\"gamma coefficient =\",i)\n",
    "    for train, test in kf.split(eight_train.data):\n",
    "        train_i = np.array(eight_train.data)[train]\n",
    "        train_j = eight_train_target[train]\n",
    "        test_i = np.array(eight_train.data)[test]\n",
    "        test_j = eight_train_target[test]\n",
    "        lsa_pipelined_min5 = Pipeline([\n",
    "                                       ('vect', count_vectorizer_min_df_5),\n",
    "                                       ('tfidf', tfidf_transformer),\n",
    "                                       ('svd', lsa_model),\n",
    "                                       ('clf', SVC(C = 10**i,kernel = 'linear', probability = True))\n",
    "])\n",
    "        lsa_pipelined_min5 = lsa_pipelined_min5.fit(train_i,train_j)\n",
    "        predicted_data = lsa_pipelined_min5.predict(test_i)\n",
    "        accuracy = np.mean(predicted_data == test_j)\n",
    "        print(accuracy)\n",
    "        if accuracy > max_accuracy:\n",
    "            max_accuracy = accuracy\n",
    "            lsa_pipelined_min5_final = lsa_pipelined_min5\n",
    "\n",
    "lsa_pipelined_min5_final = lsa_pipelined_min5_final.fit(eight_train.data, eight_train_target)\n",
    "predicted_data = lsa_pipelined_min5_final.predict(eight_test.data)\n",
    "\n",
    "compute_prediction_stats(eight_test_target, predicted_data)"
   ]
  },
  {
   "cell_type": "code",
   "execution_count": 44,
   "metadata": {},
   "outputs": [
    {
     "name": "stdout",
     "output_type": "stream",
     "text": [
      "gamma coefficient = -3\n",
      "0.458289334741\n",
      "0.465681098205\n",
      "0.510570824524\n",
      "0.508456659619\n",
      "0.512684989429\n",
      "gamma coefficient = -2\n",
      "0.458289334741\n",
      "0.465681098205\n",
      "0.510570824524\n",
      "0.508456659619\n",
      "0.512684989429\n",
      "gamma coefficient = -1\n",
      "0.458289334741\n",
      "0.465681098205\n",
      "0.511627906977\n",
      "0.509513742072\n",
      "0.516913319239\n",
      "gamma coefficient = 0\n",
      "0.945089757128\n",
      "0.969376979937\n",
      "0.949260042283\n",
      "0.937632135307\n",
      "0.964059196617\n",
      "gamma coefficient = 1\n",
      "0.964097148891\n",
      "0.971488912355\n",
      "0.96088794926\n",
      "0.964059196617\n",
      "0.975687103594\n",
      "gamma coefficient = 2\n",
      "0.973600844773\n",
      "0.972544878564\n",
      "0.968287526427\n",
      "0.971458773784\n",
      "0.977801268499\n",
      "gamma coefficient = 3\n",
      "0.979936642027\n",
      "0.973600844773\n",
      "0.973572938689\n",
      "0.975687103594\n",
      "0.982029598309\n",
      "confusion matrix\n",
      "[[1494   66]\n",
      " [  24 1566]]\n",
      "accuracy = 0.971428571429\n",
      "precision = 0.959558823529\n",
      "recall = 0.984905660377\n"
     ]
    }
   ],
   "source": [
    "# min_df = 2 using NMF to calculate best gamma \n",
    "max_accuracy = 0\n",
    "for i in range (-3,4):\n",
    "    print(\"gamma coefficient =\",i)\n",
    "    for train, test in kf.split(eight_train.data):\n",
    "        train_i = np.array(eight_train.data)[train]\n",
    "        train_j = eight_train_target[train]\n",
    "        test_i = np.array(eight_train.data)[test]\n",
    "        test_j = eight_train_target[test]\n",
    "        nmf_pipelined_min2 = Pipeline([\n",
    "                                       ('vect', count_vectorizer_min_df_2),\n",
    "                                       ('tfidf', tfidf_transformer),\n",
    "                                       ('svd', nmf_model),\n",
    "                                       ('clf', SVC(C = 10**i,kernel = 'linear', probability = True))\n",
    "])\n",
    "        nmf_pipelined_min2 = nmf_pipelined_min2.fit(train_i,train_j)\n",
    "        predicted_data = nmf_pipelined_min2.predict(test_i)\n",
    "        accuracy = np.mean(predicted_data == test_j)\n",
    "        print(accuracy)\n",
    "        if accuracy > max_accuracy:\n",
    "            max_accuracy = accuracy\n",
    "            nmf_pipelined_min2_final = nmf_pipelined_min2\n",
    "\n",
    "nmf_pipelined_min2_final = nmf_pipelined_min2_final.fit(eight_train.data, eight_train_target)\n",
    "predicted_data = nmf_pipelined_min2_final.predict(eight_test.data)\n",
    "\n",
    "compute_prediction_stats(eight_test_target, predicted_data)"
   ]
  },
  {
   "cell_type": "markdown",
   "metadata": {},
   "source": [
    "# Problem g"
   ]
  },
  {
   "cell_type": "code",
   "execution_count": 43,
   "metadata": {},
   "outputs": [
    {
     "data": {
      "image/png": "[encoded data removed]",
      "text/plain": [
       "<matplotlib.figure.Figure at 0x1a1668e780>"
      ]
     },
     "metadata": {},
     "output_type": "display_data"
    },
    {
     "name": "stdout",
     "output_type": "stream",
     "text": [
      "confusion matrix\n",
      "[[1048  512]\n",
      " [  18 1572]]\n",
      "accuracy = 0.831746031746\n",
      "precision = 0.754318618042\n",
      "recall = 0.988679245283\n"
     ]
    }
   ],
   "source": [
    "#performing hard margin SVM classifier for min_df = 2 using LSI\n",
    "from sklearn.naive_bayes import GaussianNB\n",
    "\n",
    "nb_pipelined = Pipeline([\n",
    "                         ('vect', count_vectorizer_min_df_2),\n",
    "                         ('tfidf', tfidf_transformer),\n",
    "                         ('svd', lsa_model),\n",
    "                         ('clf', GaussianNB())\n",
    "])\n",
    "\n",
    "\n",
    "nb_pipelined = nb_pipelined.fit(eight_train.data, eight_train_target)\n",
    "predicted_prob = nb_pipelined.predict_proba(eight_test.data)[:,1]\n",
    "predicted_data = nb_pipelined.predict(eight_test.data)\n",
    "\n",
    "roc_title = 'ROC curve for NB min_df = 2 using LSI'\n",
    "plot_roc_curve(eight_test_target, predicted_prob, roc_title)\n",
    "compute_prediction_stats(eight_test_target, predicted_data)"
   ]
  },
  {
   "cell_type": "code",
   "execution_count": null,
   "metadata": {
    "collapsed": true
   },
   "outputs": [],
   "source": []
  }
 ],
 "metadata": {
  "kernelspec": {
   "display_name": "Python 3",
   "language": "python",
   "name": "python3"
  },
  "language_info": {
   "codemirror_mode": {
    "name": "ipython",
    "version": 3
   },
   "file_extension": ".py",
   "mimetype": "text/x-python",
   "name": "python",
   "nbconvert_exporter": "python",
   "pygments_lexer": "ipython3",
   "version": "3.6.3"
  }
 },
 "nbformat": 4,
 "nbformat_minor": 2
}
