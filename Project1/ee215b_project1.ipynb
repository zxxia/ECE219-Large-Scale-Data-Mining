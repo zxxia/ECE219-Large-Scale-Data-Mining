{
 "cells": [
  {
   "cell_type": "markdown",
   "metadata": {},
   "source": [
    " # Problem a"
   ]
  },
  {
   "cell_type": "code",
   "execution_count": 48,
   "metadata": {
    "collapsed": true
   },
   "outputs": [],
   "source": [
    "import numpy as np\n"
   ]
  },
  {
   "cell_type": "code",
   "execution_count": 49,
   "metadata": {
    "collapsed": true
   },
   "outputs": [],
   "source": [
    "from sklearn.datasets import fetch_20newsgroups\n",
    "categories = ['comp.graphics', 'comp.os.ms-windows.misc', 'comp.sys.ibm.pc.hardware', 'comp.sys.mac.hardware',\n",
    "              'rec.autos', 'rec.motorcycles', 'rec.sport.baseball', 'rec.sport.hockey']\n",
    "twenty_train = fetch_20newsgroups(subset='train', categories=categories, shuffle=True, random_state=42)\n",
    "twenty_test = fetch_20newsgroups(subset='test', categories=categories, shuffle=True, random_state=42)\n",
    "#overall_data = fetch_20newsgroups(subset='test')"
   ]
  },
  {
   "cell_type": "markdown",
   "metadata": {},
   "source": [
    "PLOTTING"
   ]
  },
  {
   "cell_type": "code",
   "execution_count": 46,
   "metadata": {},
   "outputs": [
    {
     "data": {
      "image/png": "[encoded data removed]",
      "text/plain": [
       "<matplotlib.figure.Figure at 0x1156cd2d0>"
      ]
     },
     "metadata": {},
     "output_type": "display_data"
    }
   ],
   "source": [
    "import matplotlib.pyplot as plt\n",
    "plt.hist(twenty_train.target, bins = 16, align = 'mid')\n",
    "plt.title('Number of Docs per class')\n",
    "plt.ylabel('num of docs')\n",
    "plt.xticks(range(8),categories,rotation = 90)\n",
    "plt.xlim([-1,8])\n",
    "plt.ylim([0,1000])\n",
    "\n",
    "plt.show()\n"
   ]
  },
  {
   "cell_type": "markdown",
   "metadata": {},
   "source": [
    "# Problem b"
   ]
  },
  {
   "cell_type": "markdown",
   "metadata": {},
   "source": [
    "TOKENIZER"
   ]
  },
  {
   "cell_type": "code",
   "execution_count": 55,
   "metadata": {},
   "outputs": [
    {
     "name": "stdout",
     "output_type": "stream",
     "text": [
      "Final Number of Terms Extracted :21895\n",
      "Final Number of Terms Extracted :9109\n"
     ]
    }
   ],
   "source": [
    "from sklearn.feature_extraction.text import CountVectorizer\n",
    "\n",
    "from sklearn.feature_extraction import text\n",
    "\n",
    "import nltk\n",
    "import string\n",
    "import re\n",
    "\n",
    "from nltk.stem import PorterStemmer\n",
    "stemmer = PorterStemmer()\n",
    "\n",
    "def tokenizer_stem(text):\n",
    "    edited_text = text\n",
    "    edited_text = re.sub('[,.-:/()?{}*$#&]',' ',edited_text)  #remove symbols\n",
    "    edited_text = ''.join([ch for ch in edited_text if ch not in string.punctuation]) #remove punctuation\n",
    "    edited_text = \"\".join(ch for ch in edited_text if ord(ch) < 128) # remove non-ascii characters\n",
    "    tokens = edited_text.split()\n",
    "    stemmed_tokens = [stemmer.stem(n) for n in tokens]\n",
    "    return stemmed_tokens\n",
    "\n",
    "stop_words = text.ENGLISH_STOP_WORDS\n",
    "\n",
    "count_vectorizer_min_df_2 = CountVectorizer(analyzer = 'word', tokenizer = tokenizer_stem,\n",
    "                                            stop_words = stop_words,min_df = 2)\n",
    "count_vectorizer_min_df_5 = CountVectorizer(analyzer = 'word', tokenizer = tokenizer_stem,\n",
    "                                            stop_words = stop_words,min_df = 5)\n",
    "\n",
    "count_min_df_2 = count_vectorizer_min_df_2.fit_transform(twenty_train.data)\n",
    "count_min_df_5 = count_vectorizer_min_df_5.fit_transform(twenty_train.data)\n",
    "\n",
    "print (\"Final Number of Terms Extracted :\" + str(count_min_df_2.shape[1]))\n",
    "print (\"Final Number of Terms Extracted :\" + str(count_min_df_5.shape[1]))\n",
    "\n",
    "    \n",
    "    \n",
    "\n"
   ]
  },
  {
   "cell_type": "markdown",
   "metadata": {
    "collapsed": true
   },
   "source": [
    "TFIDF"
   ]
  },
  {
   "cell_type": "code",
   "execution_count": 57,
   "metadata": {
    "collapsed": true
   },
   "outputs": [],
   "source": [
    "from sklearn.feature_extraction.text import TfidfTransformer\n",
    "tfidf_transformer = TfidfTransformer()\n",
    "twenty_train_tfidf_min_df_2 = tfidf_transformer.fit_transform(count_min_df_2)\n",
    "twenty_train_tfidf_min_df_5 = tfidf_transformer.fit_transform(count_min_df_5)\n"
   ]
  },
  {
   "cell_type": "code",
   "execution_count": null,
   "metadata": {
    "collapsed": true
   },
   "outputs": [],
   "source": []
  }
 ],
 "metadata": {
  "kernelspec": {
   "display_name": "Python 2",
   "language": "python",
   "name": "python2"
  },
  "language_info": {
   "codemirror_mode": {
    "name": "ipython",
    "version": 2
   },
   "file_extension": ".py",
   "mimetype": "text/x-python",
   "name": "python",
   "nbconvert_exporter": "python",
   "pygments_lexer": "ipython2",
   "version": "2.7.14"
  }
 },
 "nbformat": 4,
 "nbformat_minor": 2
}
