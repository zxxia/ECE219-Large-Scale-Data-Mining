{
 "cells": [
  {
   "cell_type": "markdown",
   "metadata": {},
   "source": [
    "# Package Import (Must Run)"
   ]
  },
  {
   "cell_type": "code",
   "execution_count": 37,
   "metadata": {
    "collapsed": true
   },
   "outputs": [],
   "source": [
    "import numpy as np\n",
    "from sklearn.datasets import fetch_20newsgroups\n",
    "import matplotlib.pyplot as plt\n",
    "%matplotlib inline\n",
    "from sklearn.feature_extraction.text import CountVectorizer, TfidfTransformer, ENGLISH_STOP_WORDS\n",
    "import string\n",
    "import re\n",
    "from nltk.stem import PorterStemmer\n",
    "from sklearn.decomposition import TruncatedSVD, NMF\n",
    "from sklearn.svm import SVC\n",
    "from sklearn.pipeline import Pipeline\n",
    "from sklearn.metrics import confusion_matrix, accuracy_score, precision_score, recall_score, roc_curve, auc\n",
    "from sklearn.linear_model import LogisticRegression\n",
    "\n",
    "from sklearn.naive_bayes import GaussianNB\n",
    "\n",
    "from sklearn.model_selection import KFold, GridSearchCV"
   ]
  },
  {
   "cell_type": "markdown",
   "metadata": {},
   "source": [
    "# Constants and Helper Functions (Must Run)"
   ]
  },
  {
   "cell_type": "code",
   "execution_count": 34,
   "metadata": {
    "collapsed": true
   },
   "outputs": [],
   "source": [
    "#-----------------------------Constants-----------------------------------#\n",
    "# Number of components in Dimension Reduction\n",
    "k = 50\n",
    "\n",
    "# Number of cross validation\n",
    "KFOLD = 5\n",
    "\n",
    "COMPUTER_TECHNOLOGY = 0\n",
    "\n",
    "RECREATIONAL_ACTIVITY = 1\n",
    "\n",
    "# index of the last computer technology data group in variable 'categories'\n",
    "LAST_COMPUTER_TECHNOLOGY_INDEX = 3 \n",
    "\n",
    "\n",
    "#-----------------------------Helper Functions----------------------------#\n",
    "\n",
    "def tokenizer_stem(text):\n",
    "    # Convert each punctuation character to empty character.\n",
    "    punc_remove_map = text.maketrans('', '', string.punctuation)\n",
    "    text_no_punc = text.translate(punc_remove_map)\n",
    "    \n",
    "    # remove non-ascii characters\n",
    "    ascii_text_no_punc = \"\".join(ch for ch in text_no_punc if ord(ch) < 128) \n",
    "    \n",
    "    # Convert words that share the same stem to the stem\n",
    "    tokens = ascii_text_no_punc.split()\n",
    "    stemmer = PorterStemmer()\n",
    "    stemmed_tokens = [stemmer.stem(n) for n in tokens]\n",
    "    return stemmed_tokens\n",
    "\n",
    "\n",
    "#define a function to extract 10 most significant terms\n",
    "def ten_most_significant_terms(index):\n",
    "    topwords = []\n",
    "    presentclass = allwords_tficf.toarray()[index]\n",
    "    topindices = sorted(range(len(presentclass)), key = lambda index: presentclass[index])[-10:]\n",
    "    for index in topindices:\n",
    "        topwords.append(count_vectorizer_min_df_2.get_feature_names()[index])\n",
    "    return topwords\n",
    "\n",
    "\n",
    "\n",
    "def get_target_values(target_array):\n",
    "    target_values = []\n",
    "    for n in range(target_array.shape[0]):\n",
    "        if target_array[n] <= LAST_COMPUTER_TECHNOLOGY_INDEX:\n",
    "            target_values.append(COMPUTER_TECHNOLOGY)\n",
    "        else:\n",
    "            target_values.append(RECREATIONAL_ACTIVITY)\n",
    "    return np.array(target_values)\n",
    "\n",
    "\n",
    "# Plotting ROC curve \n",
    "def plot_roc_curve(target_values, predicted_prob, roc_title):\n",
    "    fig, ax = plt.subplots()\n",
    "    fpr, tpr, thresholds = roc_curve(target_values, predicted_prob)\n",
    "    area_under_roc = auc(fpr,tpr)\n",
    "    ax.plot(fpr, tpr, lw=2, label= 'area under curve = %0.2f' % area_under_roc)\n",
    "    ax.plot([0,1], [0,1], 'r--')\n",
    "    ax.set_xlabel('False Positive Rate')\n",
    "    ax.set_ylabel('True Positive Rate')\n",
    "    ax.set_title(roc_title)\n",
    "    ax.legend(loc=\"lower right\")\n",
    "\n",
    "\n",
    "\n",
    "# confusion matrix, accuracy, recall and precision\n",
    "def compute_prediction_stats(target_values, predicted_data, isBinary=True):\n",
    "    \n",
    "    confusionmatrix = confusion_matrix(target_values, predicted_data)\n",
    "    accuracy = accuracy_score(target_values, predicted_data)\n",
    "    if isBinary:\n",
    "        precision = precision_score(target_values, predicted_data, average='binary')\n",
    "        recall = recall_score(target_values, predicted_data, average='binary')\n",
    "    else:\n",
    "        precision = precision_score(target_values, predicted_data, average='micro')\n",
    "        recall = recall_score(target_values, predicted_data, average='micro')\n",
    "    print(\"confusion matrix\")\n",
    "    print(confusionmatrix)\n",
    "    print(\"accuracy =\",accuracy)\n",
    "    print(\"precision =\", precision)\n",
    "    print(\"recall =\",recall)\n",
    "\n",
    "\n",
    "def tunning_parameters(clf, param_grid, input_train_data, input_train_target):\n",
    "    results = {}\n",
    "    print(\"# Tuning hyper-parameters for accuracy\" % score)\n",
    "    grid = GridSearchCV(clf,\n",
    "                        param_grid,\n",
    "                        cv=KFOLD,\n",
    "                        scoring='accuracy')\n",
    "    grid.fit(input_train_data, input_train_target)\n",
    "    print(grid.best_params_)\n",
    "    print()\n",
    "    print(\"Grid scores on development set:\")\n",
    "    print()\n",
    "    means = grid.cv_results_['mean_test_score']\n",
    "    stds = grid.cv_results_['std_test_score']\n",
    "    for mean, std, params in zip(means, stds, grid.cv_results_['params']):\n",
    "        print(\"%0.3f (+/-%0.03f) for %r\" % (mean, std * 2, params))\n",
    "        print()\n",
    "    return grid.best_params_"
   ]
  },
  {
   "cell_type": "markdown",
   "metadata": {},
   "source": [
    "# Classification Preparation (Must Run)"
   ]
  },
  {
   "cell_type": "code",
   "execution_count": 4,
   "metadata": {
    "collapsed": true,
    "slideshow": {
     "slide_type": "-"
    }
   },
   "outputs": [],
   "source": [
    "# Extract datasets\n",
    "categories = ['comp.graphics',\n",
    "              'comp.os.ms-windows.misc',\n",
    "              'comp.sys.ibm.pc.hardware',\n",
    "              'comp.sys.mac.hardware',\n",
    "              'rec.autos',\n",
    "              'rec.motorcycles',\n",
    "              'rec.sport.baseball',\n",
    "              'rec.sport.hockey']\n",
    "\n",
    "eight_train = fetch_20newsgroups(subset='train', categories=categories, shuffle=True, random_state=42)\n",
    "eight_test = fetch_20newsgroups(subset='test', categories=categories, shuffle=True, random_state=42)\n",
    "\n",
    "# Set labels for binary classifiers\n",
    "eight_train_target = get_target_values(eight_train.target)\n",
    "eight_test_target = get_target_values(eight_test.target)\n",
    "\n",
    "# Initialize term count vectorizers\n",
    "count_vectorizer_min_df_2 = CountVectorizer(\n",
    "    analyzer = 'word',\n",
    "    tokenizer = tokenizer_stem,\n",
    "    stop_words = ENGLISH_STOP_WORDS,\n",
    "    min_df = 2\n",
    ")\n",
    "\n",
    "count_vectorizer_min_df_5 = CountVectorizer(\n",
    "    analyzer ='word',\n",
    "    tokenizer = tokenizer_stem,\n",
    "    stop_words = ENGLISH_STOP_WORDS,\n",
    "    min_df = 5\n",
    ")\n",
    "\n",
    "\n",
    "\n",
    "train_count_min_df_2 = count_vectorizer_min_df_2.fit_transform(eight_train.data)\n",
    "test_count_min_df_2 = count_vectorizer_min_df_2.transform(eight_test.data)\n",
    "\n",
    "train_count_min_df_5 = count_vectorizer_min_df_5.fit_transform(eight_train.data)\n",
    "\n",
    "\n",
    "test_count_min_df_5 = count_vectorizer_min_df_5.transform(eight_test.data)\n",
    "\n",
    "\n",
    "# TFIDF transformer for problem c-j\n",
    "tfidf_transformer = TfidfTransformer()\n",
    "# Compute tfidf Matrices\n",
    "eight_train_tfidf_min_df_2 = tfidf_transformer.fit_transform(train_count_min_df_2)\n",
    "eight_test_tfidf_min_df_2 = tfidf_transformer.transform(test_count_min_df_2)\n",
    "\n",
    "eight_train_tfidf_min_df_5 = tfidf_transformer.fit_transform(train_count_min_df_5)\n",
    "\n",
    "eight_test_tfidf_min_df_5 = tfidf_transformer.transform(test_count_min_df_5)\n",
    "\n",
    "\n",
    "#----------------------Dimension Reduction Process------------------------#\n",
    "\n",
    "# Latent Sematic Analysis(LSA)\n",
    "lsa_model = TruncatedSVD(n_components=k, random_state=42)\n",
    "# Non-Negative Matrix Factorization (NMF)\n",
    "nmf_model = NMF(n_components=k, random_state = 42)\n",
    "\n",
    "\n",
    "# Dense matrices computed using LSA\n",
    "eight_train_tfidf_min_df_2_lsa = lsa_model.fit_transform(eight_train_tfidf_min_df_2)\n",
    "eight_test_tfidf_min_df_2_lsa = lsa_model.transform(eight_test_tfidf_min_df_2)\n",
    "\n",
    "eight_train_tfidf_min_df_5_lsa = lsa_model.fit_transform(eight_train_tfidf_min_df_5)\n",
    "eight_test_tfidf_min_df_5_lsa = lsa_model.transform(eight_test_tfidf_min_df_5)\n",
    "\n",
    "\n",
    "# Dense matrices computed using NMF\n",
    "eight_train_tfidf_min_df_2_nmf = nmf_model.fit_transform(eight_train_tfidf_min_df_2)\n",
    "eight_test_tfidf_min_df_2_nmf = nmf_model.transform(eight_test_tfidf_min_df_2)"
   ]
  },
  {
   "cell_type": "markdown",
   "metadata": {},
   "source": [
    " # Problem a"
   ]
  },
  {
   "cell_type": "code",
   "execution_count": 5,
   "metadata": {},
   "outputs": [
    {
     "data": {
      "image/png": "[encoded data removed]",
      "text/plain": [
       "<matplotlib.figure.Figure at 0x1a131e16a0>"
      ]
     },
     "metadata": {},
     "output_type": "display_data"
    }
   ],
   "source": [
    "plt.hist(eight_train.target, bins = 16, align = 'mid')\n",
    "plt.title('Number of Docs per class')\n",
    "plt.ylabel('num of docs')\n",
    "plt.xticks(range(8),categories,rotation = 90)\n",
    "plt.xlim([-1,8])\n",
    "plt.ylim([0,1000])\n",
    "plt.show()\n"
   ]
  },
  {
   "cell_type": "markdown",
   "metadata": {},
   "source": [
    "# Problem b"
   ]
  },
  {
   "cell_type": "code",
   "execution_count": 6,
   "metadata": {},
   "outputs": [
    {
     "name": "stdout",
     "output_type": "stream",
     "text": [
      "Final Number of Terms Extracted :21842\n",
      "Final Number of Terms Extracted :8928\n"
     ]
    }
   ],
   "source": [
    "print (\"Final Number of Terms Extracted :\" + str(train_count_min_df_2.shape[1]))\n",
    "print (\"Final Number of Terms Extracted :\" + str(train_count_min_df_5.shape[1]))"
   ]
  },
  {
   "cell_type": "markdown",
   "metadata": {
    "collapsed": true
   },
   "source": [
    "# Problem c"
   ]
  },
  {
   "cell_type": "code",
   "execution_count": 7,
   "metadata": {},
   "outputs": [
    {
     "name": "stdout",
     "output_type": "stream",
     "text": [
      "10 most significant terms for comp.sys.ibm.pc.hardware:\n",
      " ['control', 'card', 'organ', 'subject', 'line', 'use', 'ide', 'thi', 'scsi', 'drive']\n",
      "10 most significant terms for comp.sys.mac.hardware:\n",
      " ['problem', 'appl', 'simm', 'quadra', 'use', 'organ', 'subject', 'mac', 'line', 'thi']\n",
      "10 most significant terms for misc.forsale:\n",
      " ['use', 'new', 'thi', 'univers', '2', 'organ', 'sale', '1', 'subject', 'line']\n",
      "10 most significant terms for soc.religion.christian:\n",
      " ['line', 'peopl', 'subject', 'church', 'hi', 'jesu', 'christian', 'wa', 'god', 'thi']\n"
     ]
    }
   ],
   "source": [
    "twenty_train = fetch_20newsgroups(subset='train')\n",
    "twenty_train_target = twenty_train.target_names  # extract all the class names\n",
    "\n",
    "\n",
    "allwords = []\n",
    "# organize words in 20 categories of data in one matrix\n",
    "for counter in range(20):\n",
    "    allwords.append(\"\")\n",
    "for index in range(len(twenty_train.data)):\n",
    "    category = twenty_train.target[index]\n",
    "    allwords[category] = allwords[category] + \" \" + twenty_train.data[index]\n",
    "    \n",
    "\n",
    "#After stemming and tokenizing, performing tficf    \n",
    "allwords_count_min_df_2 = count_vectorizer_min_df_2.fit_transform(allwords)\n",
    "allwords_tficf = tfidf_transformer.fit_transform(allwords_count_min_df_2)\n",
    "\n",
    "index_ibm = twenty_train_target.index(\"comp.sys.ibm.pc.hardware\")\n",
    "index_mac = twenty_train_target.index(\"comp.sys.mac.hardware\")\n",
    "index_forsale = twenty_train_target.index(\"misc.forsale\")\n",
    "index_christian = twenty_train_target.index(\"soc.religion.christian\")\n",
    "\n",
    "most_significant_words_ibm = ten_most_significant_terms(index_ibm)\n",
    "most_significant_words_mac = ten_most_significant_terms(index_mac)\n",
    "most_significant_words_forsale = ten_most_significant_terms(index_forsale)\n",
    "most_significant_words_christian = ten_most_significant_terms(index_christian)\n",
    "\n",
    "print(\"10 most significant terms for comp.sys.ibm.pc.hardware:\\n\", most_significant_words_ibm)\n",
    "print(\"10 most significant terms for comp.sys.mac.hardware:\\n\", most_significant_words_mac)\n",
    "print(\"10 most significant terms for misc.forsale:\\n\", most_significant_words_forsale)\n",
    "print(\"10 most significant terms for soc.religion.christian:\\n\", most_significant_words_christian)"
   ]
  },
  {
   "cell_type": "markdown",
   "metadata": {
    "collapsed": true
   },
   "source": [
    "# Problem d"
   ]
  },
  {
   "cell_type": "code",
   "execution_count": 20,
   "metadata": {
    "collapsed": true
   },
   "outputs": [],
   "source": [
    "# See Dimension Reduction Process in Classification Preparation Section"
   ]
  },
  {
   "cell_type": "markdown",
   "metadata": {},
   "source": [
    "# Problem e"
   ]
  },
  {
   "cell_type": "code",
   "execution_count": 56,
   "metadata": {},
   "outputs": [
    {
     "name": "stdout",
     "output_type": "stream",
     "text": [
      "confusion matrix\n",
      "[[1515   45]\n",
      " [  24 1566]]\n",
      "accuracy = 0.978095238095\n",
      "precision = 0.972067039106\n",
      "recall = 0.984905660377\n"
     ]
    },
    {
     "data": {
      "image/png": "[encoded data removed]",
      "text/plain": [
       "<matplotlib.figure.Figure at 0x1088c19e8>"
      ]
     },
     "metadata": {},
     "output_type": "display_data"
    }
   ],
   "source": [
    "# performing hard margin SVM classifier for min_df = 2 using LSI\n",
    "\n",
    "input_train_data = eight_train_tfidf_min_df_2_lsa\n",
    "input_test_data = eight_test_tfidf_min_df_2_lsa\n",
    "classifier = SVC(C = 1000, kernel='linear',probability = True)\n",
    "classifier = classifier.fit(input_train_data, eight_train_target)\n",
    "\n",
    "predicted_prob = classifier.predict_proba(input_test_data)\n",
    "predicted_data = classifier.predict(input_test_data)\n",
    "\n",
    "roc_title = 'ROC curve for hard margin SVM with min_df = 2 using LSI with C = 1000'\n",
    "plot_roc_curve(eight_test_target, predicted_prob[:,1], roc_title)\n",
    "compute_prediction_stats(eight_test_target, predicted_data)"
   ]
  },
  {
   "cell_type": "code",
   "execution_count": 57,
   "metadata": {
    "scrolled": false
   },
   "outputs": [
    {
     "name": "stdout",
     "output_type": "stream",
     "text": [
      "confusion matrix\n",
      "[[   0 1560]\n",
      " [   0 1590]]\n",
      "accuracy = 0.504761904762\n",
      "precision = 0.504761904762\n",
      "recall = 1.0\n"
     ]
    },
    {
     "data": {
      "image/png": "[encoded data removed]",
      "text/plain": [
       "<matplotlib.figure.Figure at 0x1088c1ac8>"
      ]
     },
     "metadata": {},
     "output_type": "display_data"
    }
   ],
   "source": [
    "#performing soft margin SVM classifier for min_df = 2 using LSI\n",
    "input_train_data = eight_train_tfidf_min_df_2_lsa\n",
    "input_test_data = eight_test_tfidf_min_df_2_lsa\n",
    "classifier = SVC(C = 0.001, kernel = 'linear', probability = True)\n",
    "classifier = classifier.fit(input_train_data, eight_train_target)\n",
    "\n",
    "predicted_prob = classifier.predict_proba(input_test_data)\n",
    "predicted_data = classifier.predict(input_test_data)\n",
    "\n",
    "roc_title = 'ROC curve for soft margin SVM with min_df = 2 using LSI with C = 0.001'\n",
    "\n",
    "compute_prediction_stats(eight_test_target, predicted_data)\n",
    "plot_roc_curve(eight_test_target, predicted_prob[:,1], roc_title)"
   ]
  },
  {
   "cell_type": "code",
   "execution_count": 43,
   "metadata": {},
   "outputs": [
    {
     "name": "stdout",
     "output_type": "stream",
     "text": [
      "confusion matrix\n",
      "[[1494   66]\n",
      " [  24 1566]]\n",
      "accuracy = 0.971428571429\n",
      "precision = 0.959558823529\n",
      "recall = 0.984905660377\n"
     ]
    },
    {
     "data": {
      "image/png": "[encoded data removed]",
      "text/plain": [
       "<matplotlib.figure.Figure at 0x110e88d30>"
      ]
     },
     "metadata": {},
     "output_type": "display_data"
    }
   ],
   "source": [
    "# performing hard margin SVM classifier for min_df = 2 using NMF\n",
    "\n",
    "input_train_data = eight_train_tfidf_min_df_2_nmf\n",
    "input_test_data = eight_test_tfidf_min_df_2_nmf\n",
    "classifier = SVC(C = 1000, kernel='linear',probability = True)\n",
    "classifier = classifier.fit(input_train_data, eight_train_target)\n",
    "\n",
    "predicted_prob = classifier.predict_proba(input_test_data)[:,1]\n",
    "predicted_data = classifier.predict(input_test_data)\n",
    "\n",
    "roc_title = 'ROC curve for hard margin SVM with min_df = 2 using NMF with C = 1000'\n",
    "plot_roc_curve(eight_test_target, predicted_prob, roc_title)\n",
    "compute_prediction_stats(eight_test_target, predicted_data)"
   ]
  },
  {
   "cell_type": "code",
   "execution_count": 58,
   "metadata": {},
   "outputs": [
    {
     "name": "stdout",
     "output_type": "stream",
     "text": [
      "confusion matrix\n",
      "[[   0 1560]\n",
      " [   0 1590]]\n",
      "accuracy = 0.504761904762\n",
      "precision = 0.504761904762\n",
      "recall = 1.0\n"
     ]
    },
    {
     "data": {
      "image/png": "[encoded data removed]",
      "text/plain": [
       "<matplotlib.figure.Figure at 0x1088d2780>"
      ]
     },
     "metadata": {},
     "output_type": "display_data"
    }
   ],
   "source": [
    "#performing soft margin SVM classifier for min_df = 2 using NMF\n",
    "input_train_data = eight_train_tfidf_min_df_2_nmf\n",
    "input_test_data = eight_test_tfidf_min_df_2_nmf\n",
    "classifier = SVC(C = 0.001, kernel = 'linear', probability = True)\n",
    "classifier = classifier.fit(input_train_data, eight_train_target)\n",
    "\n",
    "predicted_prob = classifier.predict_proba(input_test_data)[:,1]\n",
    "predicted_data = classifier.predict(input_test_data)\n",
    "\n",
    "roc_title = 'ROC curve for soft margin SVM with min_df = 2 using NMF with C = 0.001'\n",
    "plot_roc_curve(eight_test_target, predicted_prob, roc_title)\n",
    "compute_prediction_stats(eight_test_target, predicted_data)"
   ]
  },
  {
   "cell_type": "code",
   "execution_count": 59,
   "metadata": {},
   "outputs": [
    {
     "data": {
      "image/png": "[encoded data removed]",
      "text/plain": [
       "<matplotlib.figure.Figure at 0x1a1afc6ba8>"
      ]
     },
     "metadata": {},
     "output_type": "display_data"
    },
    {
     "name": "stdout",
     "output_type": "stream",
     "text": [
      "confusion matrix\n",
      "[[1516   44]\n",
      " [  25 1565]]\n",
      "accuracy = 0.978095238095\n",
      "precision = 0.97265382225\n",
      "recall = 0.98427672956\n"
     ]
    }
   ],
   "source": [
    "#performing hard margin SVM classifier for min_df = 5 using LSI\n",
    "input_train_data = eight_train_tfidf_min_df_5_lsa\n",
    "input_test_data = eight_test_tfidf_min_df_5_lsa\n",
    "classifier = SVC(C = 1000, kernel = 'linear', probability = True)\n",
    "classifier = classifier.fit(input_train_data, eight_train_target)\n",
    "\n",
    "predicted_prob = classifier.predict_proba(input_test_data)[:,1]\n",
    "predicted_data = classifier.predict(input_test_data)\n",
    "\n",
    "roc_title = 'ROC curve for hard margin SVM with min_df = 5 using LSI'\n",
    "plot_roc_curve(eight_test_target, predicted_prob, roc_title)\n",
    "compute_prediction_stats(eight_test_target, predicted_data)"
   ]
  },
  {
   "cell_type": "code",
   "execution_count": 60,
   "metadata": {},
   "outputs": [
    {
     "data": {
      "image/png": "[encoded data removed]",
      "text/plain": [
       "<matplotlib.figure.Figure at 0x118a15390>"
      ]
     },
     "metadata": {},
     "output_type": "display_data"
    },
    {
     "name": "stdout",
     "output_type": "stream",
     "text": [
      "confusion matrix\n",
      "[[   0 1560]\n",
      " [   0 1590]]\n",
      "accuracy = 0.504761904762\n",
      "precision = 0.504761904762\n",
      "recall = 1.0\n"
     ]
    }
   ],
   "source": [
    "#performing soft margin SVM classifier for min_df = 5 using LSI\n",
    "input_train_data = eight_train_tfidf_min_df_5_lsa\n",
    "input_test_data = eight_test_tfidf_min_df_5_lsa\n",
    "classifier = SVC(C = 0.001, kernel = 'linear', probability = True)\n",
    "classifier = classifier.fit(input_train_data, eight_train_target)\n",
    "\n",
    "predicted_prob = classifier.predict_proba(input_test_data)[:,1]\n",
    "predicted_data = classifier.predict(input_test_data)\n",
    "\n",
    "roc_title = 'ROC curve for soft margin SVM with min_df = 5 using LSI'\n",
    "plot_roc_curve(eight_test_target, predicted_prob, roc_title)\n",
    "compute_prediction_stats(eight_test_target, predicted_data)"
   ]
  },
  {
   "cell_type": "markdown",
   "metadata": {},
   "source": [
    "# Problem F"
   ]
  },
  {
   "cell_type": "code",
   "execution_count": 105,
   "metadata": {},
   "outputs": [
    {
     "name": "stdout",
     "output_type": "stream",
     "text": [
      "# Tuning hyper-parameters for accuracy\n",
      "{'C': 1000, 'kernel': 'linear', 'probability': True}\n",
      "\n",
      "Grid scores on development set:\n",
      "\n",
      "0.505 (+/-0.000) for {'C': 0.001, 'kernel': 'linear', 'probability': True}\n",
      "0.506 (+/-0.001) for {'C': 0.01, 'kernel': 'linear', 'probability': True}\n",
      "0.967 (+/-0.011) for {'C': 0.1, 'kernel': 'linear', 'probability': True}\n",
      "0.974 (+/-0.010) for {'C': 1, 'kernel': 'linear', 'probability': True}\n",
      "0.974 (+/-0.009) for {'C': 10, 'kernel': 'linear', 'probability': True}\n",
      "0.976 (+/-0.009) for {'C': 100, 'kernel': 'linear', 'probability': True}\n",
      "0.976 (+/-0.011) for {'C': 1000, 'kernel': 'linear', 'probability': True}\n",
      "\n"
     ]
    }
   ],
   "source": [
    "param_grid = [\n",
    "    {'C': [0.001, 0.01, 0.1, 1, 10, 100, 1000], \n",
    "     'kernel' : ['linear'], \n",
    "     'probability' : [True]}\n",
    "]\n",
    "\n",
    "input_train_data = eight_train_tfidf_min_df_2_lsa\n",
    "input_train_target = eight_train_target\n",
    "input_test_data = eight_test_tfidf_min_df_2_lsa\n",
    "\n",
    "results = tunning_parameters(SVC(), param_grid, input_train_data, input_train_target)\n",
    "#predicted_prob = grid.predict_proba(input_test_data)[:,1]\n",
    "#predicted_data = classifier.predict(input_test_data)\n",
    "\n",
    "#roc_title = 'ROC curve for soft margin SVM with min_df = 5 using LSI'\n",
    "#plot_roc_curve(eight_test_target, predicted_prob, roc_title)\n",
    "#compute_prediction_stats(eight_test_target, predicted_data)"
   ]
  },
  {
   "cell_type": "code",
   "execution_count": 102,
   "metadata": {},
   "outputs": [
    {
     "name": "stdout",
     "output_type": "stream",
     "text": [
      "# Tuning hyper-parameters for accuracy\n",
      "{'C': 100, 'kernel': 'linear', 'probability': True}\n",
      "\n",
      "Grid scores on development set:\n",
      "\n",
      "0.505 (+/-0.000) for {'C': 0.001, 'kernel': 'linear', 'probability': True}\n",
      "0.505 (+/-0.000) for {'C': 0.01, 'kernel': 'linear', 'probability': True}\n",
      "0.505 (+/-0.000) for {'C': 0.1, 'kernel': 'linear', 'probability': True}\n",
      "0.954 (+/-0.011) for {'C': 1, 'kernel': 'linear', 'probability': True}\n",
      "0.973 (+/-0.006) for {'C': 10, 'kernel': 'linear', 'probability': True}\n",
      "0.975 (+/-0.006) for {'C': 100, 'kernel': 'linear', 'probability': True}\n",
      "0.975 (+/-0.006) for {'C': 1000, 'kernel': 'linear', 'probability': True}\n",
      "\n"
     ]
    }
   ],
   "source": [
    "param_grid = [\n",
    "    {'C': [0.001, 0.01, 0.1, 1, 10, 100, 1000], \n",
    "     'kernel' : ['linear'], \n",
    "     'probability' : [True]}\n",
    "]\n",
    "input_train_data = eight_train_tfidf_min_df_2_nmf\n",
    "input_train_target = eight_train_target\n",
    "input_test_data = eight_test_tfidf_min_df_2_nmf\n",
    "\n",
    "results = tunning_parameters(SVC(), param_grid, input_train_data, input_train_target)"
   ]
  },
  {
   "cell_type": "code",
   "execution_count": 100,
   "metadata": {},
   "outputs": [
    {
     "name": "stdout",
     "output_type": "stream",
     "text": [
      "# Tuning hyper-parameters for accuracy\n",
      "{'C': 1000, 'kernel': 'linear', 'probability': True}\n",
      "\n",
      "Grid scores on development set:\n",
      "\n",
      "0.505 (+/-0.000) for {'C': 0.001, 'kernel': 'linear', 'probability': True}\n",
      "0.511 (+/-0.004) for {'C': 0.01, 'kernel': 'linear', 'probability': True}\n",
      "0.965 (+/-0.011) for {'C': 0.1, 'kernel': 'linear', 'probability': True}\n",
      "0.972 (+/-0.005) for {'C': 1, 'kernel': 'linear', 'probability': True}\n",
      "0.974 (+/-0.011) for {'C': 10, 'kernel': 'linear', 'probability': True}\n",
      "0.974 (+/-0.014) for {'C': 100, 'kernel': 'linear', 'probability': True}\n",
      "0.975 (+/-0.011) for {'C': 1000, 'kernel': 'linear', 'probability': True}\n",
      "\n"
     ]
    }
   ],
   "source": [
    "param_grid = [\n",
    "    {'C': [0.001, 0.01, 0.1, 1, 10, 100, 1000], \n",
    "     'kernel' : ['linear'], \n",
    "     'probability' : [True]}\n",
    "]\n",
    "input_train_data = eight_train_tfidf_min_df_5_lsa\n",
    "input_train_target = eight_train_target\n",
    "input_test_data = eight_test_tfidf_min_df_5_lsa\n",
    "\n",
    "results = tunning_parameters(SVC(), param_grid, input_train_data, input_train_target)"
   ]
  },
  {
   "cell_type": "markdown",
   "metadata": {},
   "source": [
    "# Problem g"
   ]
  },
  {
   "cell_type": "code",
   "execution_count": 106,
   "metadata": {},
   "outputs": [
    {
     "data": {
      "image/png": "[encoded data removed]",
      "text/plain": [
       "<matplotlib.figure.Figure at 0x118757748>"
      ]
     },
     "metadata": {},
     "output_type": "display_data"
    },
    {
     "name": "stdout",
     "output_type": "stream",
     "text": [
      "confusion matrix\n",
      "[[1048  512]\n",
      " [  18 1572]]\n",
      "accuracy = 0.831746031746\n",
      "precision = 0.754318618042\n",
      "recall = 0.988679245283\n"
     ]
    }
   ],
   "source": [
    "#performing NB classifier for min_df = 2 using LSI\n",
    "input_train_data = eight_train_tfidf_min_df_2_lsa\n",
    "input_test_data = eight_test_tfidf_min_df_2_lsa\n",
    "classifier = GaussianNB()\n",
    "classifier = classifier.fit(input_train_data, eight_train_target)\n",
    "\n",
    "predicted_prob = classifier.predict_proba(input_test_data)[:,1]\n",
    "predicted_data = classifier.predict(input_test_data)\n",
    "\n",
    "roc_title = 'ROC curve for NB with min_df = 2 using LSI'\n",
    "plot_roc_curve(eight_test_target, predicted_prob, roc_title)\n",
    "compute_prediction_stats(eight_test_target, predicted_data)"
   ]
  },
  {
   "cell_type": "code",
   "execution_count": 108,
   "metadata": {},
   "outputs": [
    {
     "data": {
      "image/png": "[encoded data removed]",
      "text/plain": [
       "<matplotlib.figure.Figure at 0x1a1a2a7588>"
      ]
     },
     "metadata": {},
     "output_type": "display_data"
    },
    {
     "name": "stdout",
     "output_type": "stream",
     "text": [
      "confusion matrix\n",
      "[[1450  110]\n",
      " [  27 1563]]\n",
      "accuracy = 0.956507936508\n",
      "precision = 0.934249850568\n",
      "recall = 0.983018867925\n"
     ]
    }
   ],
   "source": [
    "#performing NB classifier for min_df = 2 using NMF\n",
    "input_train_data = eight_train_tfidf_min_df_2_nmf\n",
    "input_test_data = eight_test_tfidf_min_df_2_nmf\n",
    "classifier = GaussianNB()\n",
    "classifier = classifier.fit(input_train_data, eight_train_target)\n",
    "\n",
    "predicted_prob = classifier.predict_proba(input_test_data)[:,1]\n",
    "predicted_data = classifier.predict(input_test_data)\n",
    "\n",
    "roc_title = 'ROC curve for NB with min_df = 2 using NMF'\n",
    "plot_roc_curve(eight_test_target, predicted_prob, roc_title)\n",
    "compute_prediction_stats(eight_test_target, predicted_data)"
   ]
  },
  {
   "cell_type": "code",
   "execution_count": 109,
   "metadata": {},
   "outputs": [
    {
     "data": {
      "image/png": "[encoded data removed]",
      "text/plain": [
       "<matplotlib.figure.Figure at 0x1a25396940>"
      ]
     },
     "metadata": {},
     "output_type": "display_data"
    },
    {
     "name": "stdout",
     "output_type": "stream",
     "text": [
      "confusion matrix\n",
      "[[1157  403]\n",
      " [  32 1558]]\n",
      "accuracy = 0.861904761905\n",
      "precision = 0.794492605813\n",
      "recall = 0.979874213836\n"
     ]
    }
   ],
   "source": [
    "#performing NB classifier for min_df = 5 using LSI\n",
    "input_train_data = eight_train_tfidf_min_df_5_lsa\n",
    "input_test_data = eight_test_tfidf_min_df_5_lsa\n",
    "classifier = GaussianNB()\n",
    "classifier = classifier.fit(input_train_data, eight_train_target)\n",
    "\n",
    "predicted_prob = classifier.predict_proba(input_test_data)[:,1]\n",
    "predicted_data = classifier.predict(input_test_data)\n",
    "\n",
    "roc_title = 'ROC curve for NB with min_df = 5 using LSI'\n",
    "plot_roc_curve(eight_test_target, predicted_prob, roc_title)\n",
    "compute_prediction_stats(eight_test_target, predicted_data)"
   ]
  },
  {
   "cell_type": "markdown",
   "metadata": {},
   "source": [
    "# Problem h"
   ]
  },
  {
   "cell_type": "markdown",
   "metadata": {},
   "source": [
    "## min_df = 2"
   ]
  },
  {
   "cell_type": "markdown",
   "metadata": {},
   "source": [
    "### LSI"
   ]
  },
  {
   "cell_type": "code",
   "execution_count": 87,
   "metadata": {},
   "outputs": [
    {
     "data": {
      "image/png": "[encoded data removed]",
      "text/plain": [
       "<matplotlib.figure.Figure at 0x11549e6a0>"
      ]
     },
     "metadata": {},
     "output_type": "display_data"
    },
    {
     "name": "stdout",
     "output_type": "stream",
     "text": [
      "confusion matrix\n",
      "[[1510   50]\n",
      " [  23 1567]]\n",
      "accuracy = 0.976825396825\n",
      "precision = 0.969078540507\n",
      "recall = 0.985534591195\n"
     ]
    }
   ],
   "source": [
    "#performing logistic regression classifier for min_df = 2 using LSI\n",
    "input_train_data = eight_train_tfidf_min_df_2_lsa\n",
    "input_test_data = eight_test_tfidf_min_df_2_lsa\n",
    "\n",
    "classifier = LogisticRegression(C = 10000)\n",
    "classifier = classifier.fit(input_train_data, eight_train_target)\n",
    "\n",
    "predicted_prob = classifier.predict_proba(input_test_data)[:,1]\n",
    "predicted_data = classifier.predict(input_test_data)\n",
    "\n",
    "roc_title = 'ROC curve for logistic regression with min_df = 2 using LSI'\n",
    "plot_roc_curve(eight_test_target, predicted_prob, roc_title)\n",
    "compute_prediction_stats(eight_test_target, predicted_data)"
   ]
  },
  {
   "cell_type": "markdown",
   "metadata": {},
   "source": [
    "### NMF"
   ]
  },
  {
   "cell_type": "code",
   "execution_count": 88,
   "metadata": {},
   "outputs": [
    {
     "data": {
      "image/png": "[encoded data removed]",
      "text/plain": [
       "<matplotlib.figure.Figure at 0x1157b0a20>"
      ]
     },
     "metadata": {},
     "output_type": "display_data"
    },
    {
     "name": "stdout",
     "output_type": "stream",
     "text": [
      "confusion matrix\n",
      "[[1497   63]\n",
      " [  21 1569]]\n",
      "accuracy = 0.973333333333\n",
      "precision = 0.961397058824\n",
      "recall = 0.98679245283\n"
     ]
    }
   ],
   "source": [
    "#performing logistic regression classifier for min_df = 2 using NMF\n",
    "input_train_data = eight_train_tfidf_min_df_2_nmf\n",
    "input_test_data = eight_test_tfidf_min_df_2_nmf\n",
    "\n",
    "classifier = LogisticRegression(C = 10000)\n",
    "classifier = classifier.fit(input_train_data, eight_train_target)\n",
    "\n",
    "predicted_prob = classifier.predict_proba(input_test_data)[:,1]\n",
    "predicted_data = classifier.predict(input_test_data)\n",
    "\n",
    "roc_title = 'ROC curve for logistic regression with min_df = 2 using NMF'\n",
    "plot_roc_curve(eight_test_target, predicted_prob, roc_title)\n",
    "compute_prediction_stats(eight_test_target, predicted_data)"
   ]
  },
  {
   "cell_type": "markdown",
   "metadata": {},
   "source": [
    "## min_df = 5"
   ]
  },
  {
   "cell_type": "code",
   "execution_count": 89,
   "metadata": {},
   "outputs": [
    {
     "data": {
      "image/png": "[encoded data removed]",
      "text/plain": [
       "<matplotlib.figure.Figure at 0x1a253a3e80>"
      ]
     },
     "metadata": {},
     "output_type": "display_data"
    },
    {
     "name": "stdout",
     "output_type": "stream",
     "text": [
      "confusion matrix\n",
      "[[1512   48]\n",
      " [  24 1566]]\n",
      "accuracy = 0.977142857143\n",
      "precision = 0.970260223048\n",
      "recall = 0.984905660377\n"
     ]
    }
   ],
   "source": [
    "#performing logistic regression classifier for min_df = 5 using LSI\n",
    "input_train_data = eight_train_tfidf_min_df_5_lsa\n",
    "input_test_data = eight_test_tfidf_min_df_5_lsa\n",
    "classifier = LogisticRegression(C = 10000)\n",
    "classifier = classifier.fit(input_train_data, eight_train_target)\n",
    "\n",
    "predicted_prob = classifier.predict_proba(input_test_data)[:,1]\n",
    "predicted_data = classifier.predict(input_test_data)\n",
    "\n",
    "roc_title = 'ROC curve for logistic regression with min_df = 5 using LSI'\n",
    "plot_roc_curve(eight_test_target, predicted_prob, roc_title)\n",
    "compute_prediction_stats(eight_test_target, predicted_data)"
   ]
  },
  {
   "cell_type": "markdown",
   "metadata": {},
   "source": [
    "# Problem i"
   ]
  },
  {
   "cell_type": "markdown",
   "metadata": {},
   "source": [
    "## Penalty = 'l1'"
   ]
  },
  {
   "cell_type": "code",
   "execution_count": 97,
   "metadata": {},
   "outputs": [
    {
     "name": "stdout",
     "output_type": "stream",
     "text": [
      "# Tuning hyper-parameters for accuracy\n",
      "{'C': 10, 'penalty': 'l1'}\n",
      "\n",
      "Grid scores on development set:\n",
      "\n",
      "0.495 (+/-0.000) for {'C': 0.001, 'penalty': 'l1'}\n",
      "0.922 (+/-0.030) for {'C': 0.01, 'penalty': 'l1'}\n",
      "0.942 (+/-0.016) for {'C': 0.1, 'penalty': 'l1'}\n",
      "0.971 (+/-0.005) for {'C': 1, 'penalty': 'l1'}\n",
      "0.977 (+/-0.009) for {'C': 10, 'penalty': 'l1'}\n",
      "0.976 (+/-0.010) for {'C': 100, 'penalty': 'l1'}\n",
      "0.976 (+/-0.009) for {'C': 1000, 'penalty': 'l1'}\n",
      "\n"
     ]
    }
   ],
   "source": [
    "param_grid = [\n",
    "    {'penalty' : ['l1'],\n",
    "     'C': [0.001, 0.01, 0.1, 1, 10, 100, 1000]\n",
    "    }\n",
    "]\n",
    "\n",
    "input_train_data = eight_train_tfidf_min_df_2_lsa\n",
    "input_train_target = eight_train_target\n",
    "input_test_data = eight_test_tfidf_min_df_2_lsa\n",
    "\n",
    "results = tunning_parameters(LogisticRegression(), param_grid, input_train_data, input_train_target)"
   ]
  },
  {
   "cell_type": "code",
   "execution_count": 96,
   "metadata": {
    "scrolled": false
   },
   "outputs": [
    {
     "name": "stdout",
     "output_type": "stream",
     "text": [
      "# Tuning hyper-parameters for accuracy\n",
      "{'C': 10, 'penalty': 'l1'}\n",
      "\n",
      "Grid scores on development set:\n",
      "\n",
      "0.495 (+/-0.000) for {'C': 0.001, 'penalty': 'l1'}\n",
      "0.495 (+/-0.000) for {'C': 0.01, 'penalty': 'l1'}\n",
      "0.564 (+/-0.078) for {'C': 0.1, 'penalty': 'l1'}\n",
      "0.967 (+/-0.007) for {'C': 1, 'penalty': 'l1'}\n",
      "0.975 (+/-0.008) for {'C': 10, 'penalty': 'l1'}\n",
      "0.974 (+/-0.007) for {'C': 100, 'penalty': 'l1'}\n",
      "0.974 (+/-0.010) for {'C': 1000, 'penalty': 'l1'}\n",
      "\n"
     ]
    }
   ],
   "source": [
    "param_grid = [\n",
    "    {'penalty' : ['l1'],\n",
    "     'C': [0.001, 0.01, 0.1, 1, 10, 100, 1000]\n",
    "    }\n",
    "]\n",
    "\n",
    "input_train_data = eight_train_tfidf_min_df_2_nmf\n",
    "input_train_target = eight_train_target\n",
    "input_test_data = eight_test_tfidf_min_df_2_nmf\n",
    "\n",
    "results = tunning_parameters(LogisticRegression(), param_grid, input_train_data, input_train_target)"
   ]
  },
  {
   "cell_type": "code",
   "execution_count": 95,
   "metadata": {},
   "outputs": [
    {
     "name": "stdout",
     "output_type": "stream",
     "text": [
      "# Tuning hyper-parameters for accuracy\n",
      "{'C': 1000, 'penalty': 'l1'}\n",
      "\n",
      "Grid scores on development set:\n",
      "\n",
      "0.495 (+/-0.000) for {'C': 0.001, 'penalty': 'l1'}\n",
      "0.932 (+/-0.022) for {'C': 0.01, 'penalty': 'l1'}\n",
      "0.942 (+/-0.011) for {'C': 0.1, 'penalty': 'l1'}\n",
      "0.971 (+/-0.005) for {'C': 1, 'penalty': 'l1'}\n",
      "0.974 (+/-0.013) for {'C': 10, 'penalty': 'l1'}\n",
      "0.974 (+/-0.013) for {'C': 100, 'penalty': 'l1'}\n",
      "0.975 (+/-0.014) for {'C': 1000, 'penalty': 'l1'}\n",
      "\n"
     ]
    }
   ],
   "source": [
    "param_grid = [\n",
    "    {'penalty' : ['l1'],\n",
    "     'C': [0.001, 0.01, 0.1, 1, 10, 100, 1000]\n",
    "    }\n",
    "]\n",
    "\n",
    "input_train_data = eight_train_tfidf_min_df_5_lsa\n",
    "input_train_target = eight_train_target\n",
    "input_test_data = eight_test_tfidf_min_df_5_lsa\n",
    "\n",
    "results = tunning_parameters(LogisticRegression(), param_grid, input_train_data, input_train_target)"
   ]
  },
  {
   "cell_type": "markdown",
   "metadata": {},
   "source": [
    "## Penalty = 'l2'"
   ]
  },
  {
   "cell_type": "code",
   "execution_count": 93,
   "metadata": {},
   "outputs": [
    {
     "name": "stdout",
     "output_type": "stream",
     "text": [
      "# Tuning hyper-parameters for accuracy\n",
      "{'C': 100, 'penalty': 'l2'}\n",
      "\n",
      "Grid scores on development set:\n",
      "\n",
      "0.717 (+/-0.022) for {'C': 0.001, 'penalty': 'l2'}\n",
      "0.949 (+/-0.005) for {'C': 0.01, 'penalty': 'l2'}\n",
      "0.966 (+/-0.011) for {'C': 0.1, 'penalty': 'l2'}\n",
      "0.970 (+/-0.009) for {'C': 1, 'penalty': 'l2'}\n",
      "0.975 (+/-0.008) for {'C': 10, 'penalty': 'l2'}\n",
      "0.977 (+/-0.008) for {'C': 100, 'penalty': 'l2'}\n",
      "0.977 (+/-0.010) for {'C': 1000, 'penalty': 'l2'}\n",
      "\n"
     ]
    }
   ],
   "source": [
    "param_grid = [\n",
    "    {\n",
    "        'penalty' : ['l2'],\n",
    "        'C': [0.001, 0.01, 0.1, 1, 10, 100, 1000]\n",
    "    }\n",
    "]\n",
    "\n",
    "input_train_data = eight_train_tfidf_min_df_2_lsa\n",
    "input_train_target = eight_train_target\n",
    "input_test_data = eight_test_tfidf_min_df_2_lsa\n",
    "\n",
    "results = tunning_parameters(LogisticRegression(), param_grid, input_train_data, input_train_target)"
   ]
  },
  {
   "cell_type": "code",
   "execution_count": 94,
   "metadata": {},
   "outputs": [
    {
     "name": "stdout",
     "output_type": "stream",
     "text": [
      "# Tuning hyper-parameters for accuracy\n",
      "{'C': 1000, 'penalty': 'l2'}\n",
      "\n",
      "Grid scores on development set:\n",
      "\n",
      "0.505 (+/-0.000) for {'C': 0.001, 'penalty': 'l2'}\n",
      "0.517 (+/-0.003) for {'C': 0.01, 'penalty': 'l2'}\n",
      "0.891 (+/-0.010) for {'C': 0.1, 'penalty': 'l2'}\n",
      "0.955 (+/-0.011) for {'C': 1, 'penalty': 'l2'}\n",
      "0.968 (+/-0.008) for {'C': 10, 'penalty': 'l2'}\n",
      "0.973 (+/-0.008) for {'C': 100, 'penalty': 'l2'}\n",
      "0.976 (+/-0.006) for {'C': 1000, 'penalty': 'l2'}\n",
      "\n"
     ]
    }
   ],
   "source": [
    "param_grid = [\n",
    "    {'penalty' : ['l2'], 'C': [0.001, 0.01, 0.1, 1, 10, 100, 1000]}\n",
    "]\n",
    "\n",
    "input_train_data = eight_train_tfidf_min_df_2_nmf\n",
    "input_train_target = eight_train_target\n",
    "input_test_data = eight_test_tfidf_min_df_2_nmf\n",
    "\n",
    "results = tunning_parameters(LogisticRegression(), param_grid, input_train_data, input_train_target)"
   ]
  },
  {
   "cell_type": "code",
   "execution_count": 101,
   "metadata": {},
   "outputs": [
    {
     "name": "stdout",
     "output_type": "stream",
     "text": [
      "# Tuning hyper-parameters for accuracy\n",
      "{'C': 100, 'penalty': 'l2'}\n",
      "\n",
      "Grid scores on development set:\n",
      "\n",
      "0.770 (+/-0.017) for {'C': 0.001, 'penalty': 'l2'}\n",
      "0.952 (+/-0.006) for {'C': 0.01, 'penalty': 'l2'}\n",
      "0.965 (+/-0.011) for {'C': 0.1, 'penalty': 'l2'}\n",
      "0.970 (+/-0.009) for {'C': 1, 'penalty': 'l2'}\n",
      "0.973 (+/-0.009) for {'C': 10, 'penalty': 'l2'}\n",
      "0.974 (+/-0.011) for {'C': 100, 'penalty': 'l2'}\n",
      "0.974 (+/-0.013) for {'C': 1000, 'penalty': 'l2'}\n",
      "\n"
     ]
    }
   ],
   "source": [
    "param_grid = [\n",
    "    {'penalty' : ['l2'],\n",
    "     'C': [0.001, 0.01, 0.1, 1, 10, 100, 1000]}\n",
    "]\n",
    "\n",
    "input_train_data = eight_train_tfidf_min_df_5_lsa\n",
    "input_train_target = eight_train_target\n",
    "input_test_data = eight_test_tfidf_min_df_5_lsa\n",
    "\n",
    "results = tunning_parameters(LogisticRegression(), param_grid, input_train_data, input_train_target)"
   ]
  },
  {
   "cell_type": "markdown",
   "metadata": {},
   "source": [
    "# Multiclass Classification:\n",
    "## Problem j"
   ]
  },
  {
   "cell_type": "code",
   "execution_count": 113,
   "metadata": {
    "collapsed": true
   },
   "outputs": [],
   "source": [
    "# Extract datasets\n",
    "categories = ['comp.sys.ibm.pc.hardware',\n",
    "              'comp.sys.mac.hardware',\n",
    "              'misc.forsale',\n",
    "              'soc.religion.christian']\n",
    "\n",
    "train_data = fetch_20newsgroups(subset='train', \n",
    "                                categories=categories, \n",
    "                                shuffle=True, \n",
    "                                random_state=42)\n",
    "test_data = fetch_20newsgroups(subset='test', \n",
    "                               categories=categories, \n",
    "                               shuffle=True, \n",
    "                               random_state=42)\n"
   ]
  },
  {
   "cell_type": "markdown",
   "metadata": {},
   "source": [
    "### Naive Bayes Classification"
   ]
  },
  {
   "cell_type": "code",
   "execution_count": 129,
   "metadata": {},
   "outputs": [
    {
     "name": "stdout",
     "output_type": "stream",
     "text": [
      "confusion matrix\n",
      "[[232  27 128   5]\n",
      " [ 88 159 136   2]\n",
      " [ 46  21 320   3]\n",
      " [  0   0  26 372]]\n",
      "accuracy = 0.692012779553\n",
      "precision = 0.692012779553\n",
      "recall = 0.692012779553\n"
     ]
    }
   ],
   "source": [
    "pipeline = Pipeline([\n",
    "    ('vect', count_vectorizer_min_df_2),\n",
    "    ('tfidf', tfidf_transformer),\n",
    "    ('svd', lsa_model),\n",
    "    ('clf', GaussianNB())\n",
    "])\n",
    "\n",
    "\n",
    "pipeline = pipeline.fit(train_data.data, train_data.target)\n",
    "\n",
    "predicted_prob = pipeline.predict_proba(test_data.data)[:,1]\n",
    "predicted_data = pipeline.predict(test_data.data)\n",
    "\n",
    "#roc_title = 'ROC curve for hard margin SVM with min_df = 2 using LSI'\n",
    "#plot_roc_curve(test_data.target, predicted_prob, roc_title)\n",
    "compute_prediction_stats(test_data.target, predicted_data, isBinary=False)"
   ]
  },
  {
   "cell_type": "code",
   "execution_count": 130,
   "metadata": {},
   "outputs": [
    {
     "name": "stdout",
     "output_type": "stream",
     "text": [
      "confusion matrix\n",
      "[[302  32  54   4]\n",
      " [ 78 256  50   1]\n",
      " [ 59  17 310   4]\n",
      " [  4   0   6 388]]\n",
      "accuracy = 0.802555910543\n",
      "precision = 0.802555910543\n",
      "recall = 0.802555910543\n"
     ]
    }
   ],
   "source": [
    "pipeline = Pipeline([\n",
    "    ('vect', count_vectorizer_min_df_2),\n",
    "    ('tfidf', tfidf_transformer),\n",
    "    ('svd', nmf_model),\n",
    "    ('clf', GaussianNB())\n",
    "])\n",
    "\n",
    "\n",
    "pipeline = pipeline.fit(train_data.data, train_data.target)\n",
    "\n",
    "predicted_prob = pipeline.predict_proba(test_data.data)[:,1]\n",
    "predicted_data = pipeline.predict(test_data.data)\n",
    "\n",
    "#roc_title = 'ROC curve for hard margin SVM with min_df = 2 using LSI'\n",
    "#plot_roc_curve(test_data.target, predicted_prob, roc_title)\n",
    "compute_prediction_stats(test_data.target, predicted_data, isBinary=False)"
   ]
  },
  {
   "cell_type": "markdown",
   "metadata": {},
   "source": [
    "### Multiclass SVM\n",
    "#### One vs One"
   ]
  },
  {
   "cell_type": "code",
   "execution_count": 124,
   "metadata": {},
   "outputs": [
    {
     "name": "stdout",
     "output_type": "stream",
     "text": [
      "confusion matrix\n",
      "[[332  36  24   0]\n",
      " [ 46 316  23   0]\n",
      " [ 29  14 347   0]\n",
      " [  7   0   3 388]]\n",
      "accuracy = 0.883706070288\n",
      "precision = 0.883706070288\n",
      "recall = 0.883706070288\n"
     ]
    }
   ],
   "source": [
    "#input_train_data = eight_train_tfidf_min_df_2_lsa\n",
    "#input_test_data = eight_test_tfidf_min_df_2_lsa\n",
    "\n",
    "clf = SVC(C=1000, \n",
    "          kernel='linear', \n",
    "          probability=True, \n",
    "          decision_function_shape='ovo')\n",
    "pipeline = Pipeline([\n",
    "    ('vect', count_vectorizer_min_df_2),\n",
    "    ('tfidf', tfidf_transformer),\n",
    "    ('svd', lsa_model),\n",
    "    ('clf', clf)\n",
    "])\n",
    "\n",
    "\n",
    "pipeline = pipeline.fit(train_data.data, train_data.target)\n",
    "\n",
    "predicted_prob = pipeline.predict_proba(test_data.data)[:,1]\n",
    "predicted_data = pipeline.predict(test_data.data)\n",
    "\n",
    "#roc_title = 'ROC curve for hard margin SVM with min_df = 2 using LSI'\n",
    "#plot_roc_curve(test_data.target, predicted_prob, roc_title)\n",
    "compute_prediction_stats(test_data.target, predicted_data, isBinary=False)"
   ]
  },
  {
   "cell_type": "code",
   "execution_count": 126,
   "metadata": {},
   "outputs": [
    {
     "name": "stdout",
     "output_type": "stream",
     "text": [
      "confusion matrix\n",
      "[[335  42  15   0]\n",
      " [ 66 296  23   0]\n",
      " [ 30  13 345   2]\n",
      " [  8   0   3 387]]\n",
      "accuracy = 0.870926517572\n",
      "precision = 0.870926517572\n",
      "recall = 0.870926517572\n"
     ]
    }
   ],
   "source": [
    "clf = SVC(C=1000, \n",
    "          kernel='linear', \n",
    "          probability=True, \n",
    "          decision_function_shape='ovo')\n",
    "pipeline = Pipeline([\n",
    "    ('vect', count_vectorizer_min_df_2),\n",
    "    ('tfidf', tfidf_transformer),\n",
    "    ('svd', nmf_model),\n",
    "    ('clf', clf)\n",
    "])\n",
    "\n",
    "\n",
    "pipeline = pipeline.fit(train_data.data, train_data.target)\n",
    "\n",
    "predicted_prob = pipeline.predict_proba(test_data.data)[:,1]\n",
    "predicted_data = pipeline.predict(test_data.data)\n",
    "\n",
    "#roc_title = 'ROC curve for hard margin SVM with min_df = 2 using LSI'\n",
    "#plot_roc_curve(test_data.target, predicted_prob, roc_title)\n",
    "compute_prediction_stats(test_data.target, predicted_data, isBinary=False)"
   ]
  },
  {
   "cell_type": "markdown",
   "metadata": {},
   "source": [
    "#### One vs the Rest"
   ]
  },
  {
   "cell_type": "code",
   "execution_count": 125,
   "metadata": {},
   "outputs": [
    {
     "name": "stdout",
     "output_type": "stream",
     "text": [
      "confusion matrix\n",
      "[[332  36  24   0]\n",
      " [ 46 316  23   0]\n",
      " [ 29  14 347   0]\n",
      " [  7   0   3 388]]\n",
      "accuracy = 0.883706070288\n",
      "precision = 0.883706070288\n",
      "recall = 0.883706070288\n"
     ]
    }
   ],
   "source": [
    "clf = SVC(C=1000, \n",
    "          kernel='linear', \n",
    "          probability=True, \n",
    "          decision_function_shape='ovr')\n",
    "pipeline = Pipeline([\n",
    "    ('vect', count_vectorizer_min_df_2),\n",
    "    ('tfidf', tfidf_transformer),\n",
    "    ('svd', lsa_model),\n",
    "    ('clf', clf)\n",
    "])\n",
    "\n",
    "\n",
    "pipeline = pipeline.fit(train_data.data, train_data.target)\n",
    "\n",
    "predicted_prob = pipeline.predict_proba(test_data.data)[:,1]\n",
    "predicted_data = pipeline.predict(test_data.data)\n",
    "\n",
    "#roc_title = 'ROC curve for hard margin SVM with min_df = 2 using LSI'\n",
    "#plot_roc_curve(test_data.target, predicted_prob, roc_title)\n",
    "compute_prediction_stats(test_data.target, predicted_data, isBinary=False)"
   ]
  },
  {
   "cell_type": "code",
   "execution_count": 127,
   "metadata": {},
   "outputs": [
    {
     "name": "stdout",
     "output_type": "stream",
     "text": [
      "confusion matrix\n",
      "[[335  42  15   0]\n",
      " [ 66 296  23   0]\n",
      " [ 30  13 345   2]\n",
      " [  8   0   3 387]]\n",
      "accuracy = 0.870926517572\n",
      "precision = 0.870926517572\n",
      "recall = 0.870926517572\n"
     ]
    }
   ],
   "source": [
    "clf = SVC(C=1000, \n",
    "          kernel='linear', \n",
    "          probability=True, \n",
    "          decision_function_shape='ovr')\n",
    "pipeline = Pipeline([\n",
    "    ('vect', count_vectorizer_min_df_2),\n",
    "    ('tfidf', tfidf_transformer),\n",
    "    ('svd', nmf_model),\n",
    "    ('clf', clf)\n",
    "])\n",
    "\n",
    "\n",
    "pipeline = pipeline.fit(train_data.data, train_data.target)\n",
    "\n",
    "predicted_prob = pipeline.predict_proba(test_data.data)[:,1]\n",
    "predicted_data = pipeline.predict(test_data.data)\n",
    "\n",
    "#roc_title = 'ROC curve for hard margin SVM with min_df = 2 using LSI'\n",
    "#plot_roc_curve(test_data.target, predicted_prob, roc_title)\n",
    "compute_prediction_stats(test_data.target, predicted_data, isBinary=False)"
   ]
  }
 ],
 "metadata": {
  "kernelspec": {
   "display_name": "Python 3",
   "language": "python",
   "name": "python3"
  },
  "language_info": {
   "codemirror_mode": {
    "name": "ipython",
    "version": 3
   },
   "file_extension": ".py",
   "mimetype": "text/x-python",
   "name": "python",
   "nbconvert_exporter": "python",
   "pygments_lexer": "ipython3",
   "version": "3.6.3"
  }
 },
 "nbformat": 4,
 "nbformat_minor": 2
}
