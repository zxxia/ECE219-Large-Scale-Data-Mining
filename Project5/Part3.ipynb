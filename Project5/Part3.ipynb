{
 "cells": [
  {
   "cell_type": "code",
   "execution_count": 16,
   "metadata": {},
   "outputs": [
    {
     "name": "stdout",
     "output_type": "stream",
     "text": [
      "The autoreload extension is already loaded. To reload it, use:\n",
      "  %reload_ext autoreload\n"
     ]
    }
   ],
   "source": [
    "%load_ext autoreload\n",
    "%autoreload 2\n",
    "import numpy as np\n",
    "from helper_functions import *\n",
    "from sklearn.preprocessing import OneHotEncoder, MinMaxScaler\n",
    "from sklearn.feature_extraction import DictVectorizer\n",
    "from sklearn.model_selection import KFold\n",
    "from sklearn.svm import SVC\n"
   ]
  },
  {
   "cell_type": "code",
   "execution_count": 4,
   "metadata": {},
   "outputs": [
    {
     "data": {
      "text/plain": [
       "7"
      ]
     },
     "execution_count": 4,
     "metadata": {},
     "output_type": "execute_result"
    }
   ],
   "source": [
    "get_score_diff(1422837176)"
   ]
  },
  {
   "cell_type": "code",
   "execution_count": 5,
   "metadata": {
    "collapsed": true
   },
   "outputs": [],
   "source": [
    "path = \"tweet_data/\"\n",
    "\n",
    "files = [\"tweets_#gohawks.txt\", \"tweets_#gopatriots.txt\", \n",
    "        \"tweets_#nfl.txt\", \"tweets_#patriots.txt\", \n",
    "        \"tweets_#sb49.txt\", \"tweets_#superbowl.txt\"]\n",
    "tweets_gopatriots = load_tweets(\"tweet_data/tweets_#gopatriots.txt\")\n",
    "tweets_gohawks = load_tweets(\"tweet_data/tweets_#gohawks.txt\")\n",
    "tweets_superbowl = load_tweets(\"tweet_data/tweets_#superbowl.txt\")"
   ]
  },
  {
   "cell_type": "code",
   "execution_count": 7,
   "metadata": {},
   "outputs": [
    {
     "name": "stdout",
     "output_type": "stream",
     "text": [
      "29151\n",
      "299\n",
      "6108\n",
      "22744\n"
     ]
    }
   ],
   "source": [
    "tweets = tweets_gopatriots + tweets_gohawks + tweets_superbowl\n",
    "print(len(tweets))\n",
    "print(len(tweets_gopatriots))\n",
    "print(len(tweets_gohawks))\n",
    "print(len(tweets_superbowl))"
   ]
  },
  {
   "cell_type": "code",
   "execution_count": 20,
   "metadata": {},
   "outputs": [],
   "source": [
    "# print(tweets_gopatriots[0])\n",
    "# print(tweets_gohawks[0])\n",
    "# print(tweets_superbowl[0])\n",
    "\n",
    "labels = list()\n",
    "features = list()\n",
    "for tweet in tweets:\n",
    "    labels.append(get_tweet_polarity(tweet['tweet']['text']))\n",
    "    features.append(extract_features(tweet))"
   ]
  },
  {
   "cell_type": "code",
   "execution_count": 30,
   "metadata": {},
   "outputs": [
    {
     "name": "stdout",
     "output_type": "stream",
     "text": [
      "Positive\n",
      "{'timestamp': 1422888857.0, 'Massachusetts': 1, 'Washington': 0, 'Retweet Count': 0, 'Score Diff': 4}\n"
     ]
    }
   ],
   "source": [
    "print(labels[0])\n",
    "print(features[0])\n"
   ]
  },
  {
   "cell_type": "code",
   "execution_count": 31,
   "metadata": {},
   "outputs": [
    {
     "name": "stdout",
     "output_type": "stream",
     "text": [
      "[[  1.00000000e+00   0.00000000e+00   4.00000000e+00   0.00000000e+00\n",
      "    1.42288886e+09]\n",
      " [  1.00000000e+00   0.00000000e+00   7.00000000e+00   0.00000000e+00\n",
      "    1.42283625e+09]\n",
      " [  1.00000000e+00   0.00000000e+00   0.00000000e+00   0.00000000e+00\n",
      "    1.42283342e+09]\n",
      " ..., \n",
      " [  0.00000000e+00   0.00000000e+00   4.00000000e+00   1.00000000e+00\n",
      "    1.42329564e+09]\n",
      " [  1.00000000e+00   0.00000000e+00   4.00000000e+00   0.00000000e+00\n",
      "    1.42331123e+09]\n",
      " [  1.00000000e+00   0.00000000e+00   4.00000000e+00   0.00000000e+00\n",
      "    1.42332326e+09]]\n"
     ]
    }
   ],
   "source": [
    "vec = DictVectorizer(sparse=False)\n",
    "train_features = vec.fit_transform(features)\n",
    "print(train_features)\n"
   ]
  },
  {
   "cell_type": "code",
   "execution_count": null,
   "metadata": {
    "collapsed": true
   },
   "outputs": [],
   "source": [
    "kf = KFold(n_splits=10, shuffle=True, random_state=42)\n",
    "for train_index, test_index in kf.split(features_array):\n",
    "    X_train, X_test = train_features[train_index], train_features[test_index]\n",
    "    y_train, y_test = train_labels[train_index], train_labels[test_index]\n",
    "    clf.fit(X_train, y_train)\n",
    "    y_pred = clf.predict(X_test)\n",
    "    confusionmatrix = confusion_matrix(y_test, y_pred)\n",
    "    print('Confusion Matrix:\\n', confusionmatrix)\n",
    "    print('Accuracy:', accuracy_score(y_test, y_pred))\n",
    "    print('Micro F1 Score:', f1_score(y_test, y_pred, average='micro'))\n",
    "    print('Macro F1 Score:', f1_score(y_test, y_pred, average='macro'))\n",
    "    print('Weighted F1 Score:', f1_score(y_test, y_pred, average='weighted'))\n",
    "    print('\\n')\n",
    "\n"
   ]
  }
 ],
 "metadata": {
  "kernelspec": {
   "display_name": "Python 3",
   "language": "python",
   "name": "python3"
  },
  "language_info": {
   "codemirror_mode": {
    "name": "ipython",
    "version": 3
   },
   "file_extension": ".py",
   "mimetype": "text/x-python",
   "name": "python",
   "nbconvert_exporter": "python",
   "pygments_lexer": "ipython3",
   "version": "3.6.3"
  }
 },
 "nbformat": 4,
 "nbformat_minor": 2
}
