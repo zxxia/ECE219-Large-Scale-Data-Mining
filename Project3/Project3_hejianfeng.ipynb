{
 "cells": [
  {
   "cell_type": "code",
   "execution_count": 5,
   "metadata": {},
   "outputs": [
    {
     "name": "stdout",
     "output_type": "stream",
     "text": [
      "0.922334727606\n"
     ]
    }
   ],
   "source": [
    "#Problem 30\n",
    "\n",
    "import numpy as np\n",
    "import matplotlib.pyplot as plt\n",
    "import pandas as pd\n",
    "from surprise.prediction_algorithms.baseline_only import BaselineOnly\n",
    "#from surprise.prediction_algorithms.baseline_only.BaselineOnly\n",
    "from surprise.model_selection.validation import cross_validate\n",
    "from surprise import Dataset\n",
    "from surprise import Reader\n",
    "from sklearn.metrics import mean_squared_error\n",
    "from sklearn.metrics import mean_absolute_error\n",
    "# A reader is still needed but only the rating_scale param is requiered.\n",
    "dataset = pd.read_csv('ratings.csv')\n",
    "X = dataset.iloc[:,:].values\n",
    "user_names_total = X[:,0]\n",
    "movie_ratings_total = X[:,2]\n",
    "user_names = np.unique(X[:,0])\n",
    "\n",
    "#Build a dictionary, use movie name as key and movie rating as value\n",
    "movie_ratings_dict = dict()\n",
    "for i in range(0,len(movie_ratings_total)):\n",
    "    key = X[i, 0]\n",
    "    value = X[i, 2]\n",
    "    if (key in movie_ratings_dict):\n",
    "        movie_ratings_dict[key].append(value)\n",
    "    else:\n",
    "        movie_ratings_dict[key] = [value]\n",
    "#print movie_ratings_dict\n",
    "mean_ratings_dict = dict()\n",
    "for i in range(0, len(user_names)):\n",
    "    mean_user = np.mean(movie_ratings_dict.values()[i])\n",
    "    mean_ratings_dict[user_names[i]]= [mean_user]\n",
    "    for j in range(1, len(movie_ratings_dict.values()[i])):\n",
    "        mean_ratings_dict[user_names[i]].append(mean_user)\n",
    "rmse_dict = dict()\n",
    "mae_dict = dict()\n",
    "for i in range(0, len(user_names)):\n",
    "    rmse = mean_squared_error(movie_ratings_dict.values()[i], mean_ratings_dict.values()[i])\n",
    "    mae  = mean_absolute_error(movie_ratings_dict.values()[i], mean_ratings_dict.values()[i])\n",
    "    rmse_dict[user_names[i]] = [rmse]\n",
    "    mae_dict[user_names[i]] = [mae]\n",
    "average_rmse = np.mean(rmse_dict.values())\n",
    "print average_rmse"
   ]
  },
  {
   "cell_type": "code",
   "execution_count": 34,
   "metadata": {},
   "outputs": [
    {
     "name": "stdout",
     "output_type": "stream",
     "text": [
      "0.915828844352\n"
     ]
    }
   ],
   "source": [
    "#Problem 31\n",
    "\n",
    "def popular_movie_trimming(testset):\n",
    "    movieId_count = {}\n",
    "    for record in testset:\n",
    "        if record[1] not in movieId_count.keys():\n",
    "            movieId_count[record[1]] = 1\n",
    "        else:\n",
    "            movieId_count[record[1]] = movieId_count[record[1]] + 1\n",
    "    testset[:] = [record for record in testset if movieId_count[record[1]] > 2]\n",
    "    return  testset\n",
    "\n",
    "#data = Dataset.load_from_df(dataset[['userId', 'movieId', 'rating']], reader)\n",
    "dataset = pd.read_csv('ratings.csv')\n",
    "X = dataset.iloc[:,:].values\n",
    "\n",
    "data_tuple = zip(X[:,0], X[:,1], X[:,2])\n",
    "data_trim_pop = popular_movie_trimming(data_tuple)\n",
    "data_trim_pop_arr = np.asarray(data_trim_pop)\n",
    "\n",
    "user_names_total = data_trim_pop_arr[:,0]\n",
    "movie_ratings_total = data_trim_pop_arr[:,2]\n",
    "user_names = np.unique(data_trim_pop_arr[:,0])\n",
    "\n",
    "#Build a dictionary, use movie name as key and movie rating as value\n",
    "movie_ratings_dict = dict()\n",
    "for i in range(0,len(movie_ratings_total)):\n",
    "    key = data_trim_pop_arr[i, 0]\n",
    "    value = data_trim_pop_arr[i, 2]\n",
    "    if (key in movie_ratings_dict):\n",
    "        movie_ratings_dict[key].append(value)\n",
    "    else:\n",
    "        movie_ratings_dict[key] = [value]\n",
    "#print movie_ratings_dict\n",
    "mean_ratings_dict = dict()\n",
    "for i in range(0, len(user_names)):\n",
    "    mean_user = np.mean(movie_ratings_dict.values()[i])\n",
    "    mean_ratings_dict[user_names[i]]= [mean_user]\n",
    "    for j in range(1, len(movie_ratings_dict.values()[i])):\n",
    "        mean_ratings_dict[user_names[i]].append(mean_user)\n",
    "rmse_dict = dict()\n",
    "mae_dict = dict()\n",
    "for i in range(0, len(user_names)):\n",
    "    rmse = mean_squared_error(movie_ratings_dict.values()[i], mean_ratings_dict.values()[i])\n",
    "    mae  = mean_absolute_error(movie_ratings_dict.values()[i], mean_ratings_dict.values()[i])\n",
    "    rmse_dict[user_names[i]] = [rmse]\n",
    "    mae_dict[user_names[i]] = [mae]\n",
    "average_rmse = np.mean(rmse_dict.values())\n",
    "print average_rmse\n"
   ]
  },
  {
   "cell_type": "code",
   "execution_count": 48,
   "metadata": {},
   "outputs": [
    {
     "name": "stdout",
     "output_type": "stream",
     "text": [
      "0.562556643544\n"
     ]
    }
   ],
   "source": [
    "#Problem 32\n",
    "\n",
    "def unpopular_movie_trimming(testset):\n",
    "    movieId_count = {}\n",
    "    for record in testset:\n",
    "        if record[1] not in movieId_count.keys():\n",
    "            movieId_count[record[1]] = 1\n",
    "        else:\n",
    "            movieId_count[record[1]] = movieId_count[record[1]] + 1\n",
    "    testset[:] = [record for record in testset if movieId_count[record[1]] <= 2]\n",
    "    return  testset\n",
    "\n",
    "#data = Dataset.load_from_df(dataset[['userId', 'movieId', 'rating']], reader)\n",
    "dataset = pd.read_csv('ratings.csv')\n",
    "X = dataset.iloc[:,:].values\n",
    "\n",
    "data_tuple = zip(X[:,0], X[:,1], X[:,2])\n",
    "data_trim_unpop = unpopular_movie_trimming(data_tuple)\n",
    "data_trim_unpop_arr = np.asarray(data_trim_unpop)\n",
    "\n",
    "user_names_total = data_trim_unpop_arr[:,0]\n",
    "movie_ratings_total = data_trim_unpop_arr[:,2]\n",
    "user_names = np.unique(data_trim_unpop_arr[:,0])\n",
    "\n",
    "#Build a dictionary, use movie name as key and movie rating as value\n",
    "movie_ratings_dict = dict()\n",
    "for i in range(0,len(movie_ratings_total)):\n",
    "    key = data_trim_unpop_arr[i, 0]\n",
    "    value = data_trim_unpop_arr[i, 2]\n",
    "    if (key in movie_ratings_dict):\n",
    "        movie_ratings_dict[key].append(value)\n",
    "    else:\n",
    "        movie_ratings_dict[key] = [value]\n",
    "#print movie_ratings_dict\n",
    "mean_ratings_dict = dict()\n",
    "for i in range(0, len(user_names)):\n",
    "    mean_user = np.mean(movie_ratings_dict.values()[i])\n",
    "    mean_ratings_dict[user_names[i]]= [mean_user]\n",
    "    for j in range(1, len(movie_ratings_dict.values()[i])):\n",
    "        mean_ratings_dict[user_names[i]].append(mean_user)\n",
    "rmse_dict = dict()\n",
    "mae_dict = dict()\n",
    "for i in range(0, len(user_names)):\n",
    "    rmse = mean_squared_error(movie_ratings_dict.values()[i], mean_ratings_dict.values()[i])\n",
    "    mae  = mean_absolute_error(movie_ratings_dict.values()[i], mean_ratings_dict.values()[i])\n",
    "    rmse_dict[user_names[i]] = [rmse]\n",
    "    mae_dict[user_names[i]] = [mae]\n",
    "average_rmse_unpop = np.mean(rmse_dict.values())\n",
    "print average_rmse_unpop\n"
   ]
  },
  {
   "cell_type": "code",
   "execution_count": 47,
   "metadata": {},
   "outputs": [
    {
     "name": "stdout",
     "output_type": "stream",
     "text": [
      "0.916383111243\n"
     ]
    }
   ],
   "source": [
    "#Problem 33\n",
    "\n",
    "def high_variance_movie_trimming(testset):\n",
    "    movie_ratings = {}\n",
    "    \n",
    "    for record in testset:\n",
    "        if record[1] not in movie_ratings.keys():\n",
    "            movie_ratings[record[1]] = [record[2]]\n",
    "        else:\n",
    "            movie_ratings[record[1]].append(record[2])\n",
    "            \n",
    "    testset[:] = [record for record in testset\n",
    "                  if len(movie_ratings[record[1]]) >= 5 or\n",
    "                  np.var(movie_ratings[record[1]]) >= 2]\n",
    "    return testset\n",
    "\n",
    "#data = Dataset.load_from_df(dataset[['userId', 'movieId', 'rating']], reader)\n",
    "dataset = pd.read_csv('ratings.csv')\n",
    "X = dataset.iloc[:,:].values\n",
    "\n",
    "data_tuple = zip(X[:,0], X[:,1], X[:,2])\n",
    "data_trim_var = high_variance_movie_trimming(data_tuple)\n",
    "data_trim_var_arr = np.asarray(data_trim_var)\n",
    "\n",
    "user_names_total = data_trim_var_arr[:,0]\n",
    "movie_ratings_total = data_trim_var_arr[:,2]\n",
    "user_names = np.unique(data_trim_var_arr[:,0])\n",
    "\n",
    "\n",
    "#Build a dictionary, use movie name as key and movie rating as value\n",
    "movie_ratings_dict = dict()\n",
    "for i in range(0,len(movie_ratings_total)):\n",
    "    key = data_trim_var_arr[i, 0]\n",
    "    value = data_trim_var_arr[i, 2]\n",
    "    if (key in movie_ratings_dict):\n",
    "        movie_ratings_dict[key].append(value)\n",
    "    else:\n",
    "        movie_ratings_dict[key] = [value]\n",
    "#print movie_ratings_dict\n",
    "mean_ratings_dict = dict()\n",
    "for i in range(0, len(user_names)):\n",
    "    mean_user = np.mean(movie_ratings_dict.values()[i])\n",
    "    mean_ratings_dict[user_names[i]]= [mean_user]\n",
    "    for j in range(1, len(movie_ratings_dict.values()[i])):\n",
    "        mean_ratings_dict[user_names[i]].append(mean_user)\n",
    "rmse_dict = dict()\n",
    "mae_dict = dict()\n",
    "for i in range(0, len(user_names)):\n",
    "    rmse = mean_squared_error(movie_ratings_dict.values()[i], mean_ratings_dict.values()[i])\n",
    "    mae  = mean_absolute_error(movie_ratings_dict.values()[i], mean_ratings_dict.values()[i])\n",
    "    rmse_dict[user_names[i]] = [rmse]\n",
    "    mae_dict[user_names[i]] = [mae]\n",
    "average_rmse_var = np.mean(rmse_dict.values())\n",
    "print average_rmse_var\n"
   ]
  },
  {
   "cell_type": "code",
   "execution_count": 1,
   "metadata": {
    "collapsed": true
   },
   "outputs": [],
   "source": [
    "#34 \n"
   ]
  },
  {
   "cell_type": "code",
   "execution_count": 10,
   "metadata": {},
   "outputs": [
    {
     "name": "stdout",
     "output_type": "stream",
     "text": [
      "Precision is the fraction of relevant elements over retrieved elements. For instance, precision in this case is the fraction of the recommended movies intersected with movies liked by target user over recommended movies\n",
      "\n",
      "\n",
      "Recall is the fraction of relevant elements over total amount of elements. For instance, precision in this case is the fraction of the recommended movies intersected with movies liked by target user over all the movies liked by target user\n"
     ]
    }
   ],
   "source": [
    "#35\n",
    "print\"Precision is the fraction of relevant elements over retrieved elements. For instance, precision in this case is \\\n",
    "the fraction of the recommended movies intersected with movies liked by target user over recommended movies\"\n",
    "print '\\n'\n",
    "print\"Recall is the fraction of relevant elements over total amount of elements. For instance, precision in this case is \\\n",
    "the fraction of the recommended movies intersected with movies liked by target user over all the movies liked by target user\""
   ]
  },
  {
   "cell_type": "code",
   "execution_count": null,
   "metadata": {
    "collapsed": true
   },
   "outputs": [],
   "source": []
  }
 ],
 "metadata": {
  "kernelspec": {
   "display_name": "Python 2",
   "language": "python",
   "name": "python2"
  },
  "language_info": {
   "codemirror_mode": {
    "name": "ipython",
    "version": 2
   },
   "file_extension": ".py",
   "mimetype": "text/x-python",
   "name": "python",
   "nbconvert_exporter": "python",
   "pygments_lexer": "ipython2",
   "version": "2.7.14"
  }
 },
 "nbformat": 4,
 "nbformat_minor": 2
}
