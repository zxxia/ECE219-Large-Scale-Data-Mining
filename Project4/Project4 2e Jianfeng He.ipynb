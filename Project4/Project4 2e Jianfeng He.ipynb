{
 "cells": [
  {
   "cell_type": "code",
   "execution_count": 5,
   "metadata": {},
   "outputs": [
    {
     "name": "stdout",
     "output_type": "stream",
     "text": [
      "labels[0] => Week #\n",
      "labels[1] => Day of Week\n",
      "labels[2] => Backup Start Time - Hour of Day\n",
      "labels[3] => Work-Flow-ID\n",
      "labels[4] => File Name\n",
      "labels[5] => Size of Backup (GB)\n",
      "labels[6] => Backup Time (hour)\n"
     ]
    }
   ],
   "source": [
    "import numpy as np\n",
    "import pandas as pd\n",
    "from sklearn.linear_model import LinearRegression\n",
    "from sklearn.model_selection import KFold\n",
    "import copy\n",
    "import scipy as sp\n",
    "Data = pd.read_csv(\"network_backup_dataset.csv\")\n",
    "labels = Data.columns\n",
    "for i, v in enumerate(labels):\n",
    "    print \"labels[\" + str(i) + \"] => \" + v\n",
    "\n",
    "def convert_OneDimension(label, data):\n",
    "    \n",
    "    if label == labels[1]:\n",
    "        days = ['Monday', 'Tuesday', 'Wednesday', 'Thursday', 'Friday', 'Saturday', 'Sunday']\n",
    "        for day, number in zip(days, range(len(days))):\n",
    "            data = data.replace({'Day of Week': {day : number}})\n",
    "        return data\n",
    "    \n",
    "    elif label == labels[3]:\n",
    "        work_flow_ids = ['work_flow_0', 'work_flow_1','work_flow_2','work_flow_3', 'work_flow_4']\n",
    "        for work_flow, number in zip(work_flow_ids, range(len(work_flow_ids))):\n",
    "            data = data.replace({'Work-Flow-ID' : {work_flow : number}})\n",
    "        return data\n",
    "    \n",
    "    elif label == labels[4]:\n",
    "        uniqueFiles = ['File_{0}'.format(s) for s in range(len((pd.unique(Data['File Name']))))]\n",
    "        for file_name, number in zip(uniqueFiles,range(len(uniqueFiles))):\n",
    "            data = data.replace({'File Name' : {file_name : number}})\n",
    "        return data      \n",
    "    else:\n",
    "        return data\n",
    "\n",
    "for i in range(len(labels)):\n",
    "    Data = convert_OneDimension(labels[i], Data)"
   ]
  },
  {
   "cell_type": "code",
   "execution_count": 32,
   "metadata": {},
   "outputs": [],
   "source": [
    "from sklearn.neighbors import KNeighborsRegressor\n",
    "from sklearn.metrics import mean_squared_error\n",
    "\n",
    "kf = KFold(n_splits=10)\n",
    "\n",
    "train_data = Data.iloc[:, 0:5]\n",
    "target_data = Data[labels[5]]\n",
    "neighbors_range = range(1,30)\n",
    "\n",
    "train_rmse_list = []\n",
    "test_rmse_list = []\n",
    "for n in neighbors_range:\n",
    "    neigh = KNeighborsRegressor(n_neighbors=n)\n",
    "    neigh.fit(train_data, target_data)\n",
    "    train_mse_list = []\n",
    "    test_mse_list = []\n",
    "    for train_index, test_index in kf.split(train_data):\n",
    "        train_sample = train_data.iloc[train_index,:]\n",
    "        train_target = target_data.iloc[train_index]\n",
    "        train_predicted = neigh.predict(train_sample)\n",
    "        train_mse = mean_squared_error(train_target, train_predicted)\n",
    "        train_mse_list.append(train_mse)\n",
    "\n",
    "        test_sample = train_data.iloc[test_index,:]\n",
    "        test_target = target_data.iloc[test_index]\n",
    "        test_predicted = neigh.predict(test_sample)\n",
    "        test_mse = mean_squared_error(test_target, test_predicted)\n",
    "        test_mse_list.append(test_mse)\n",
    "\n",
    "    avg_train_rmse = np.sqrt(np.sum(train_mse) / 10) \n",
    "    avg_test_rmse = np.sqrt(np.sum(test_mse) / 10) \n",
    "    \n",
    "    train_rmse_list.append(avg_train_rmse)\n",
    "    test_rmse_list.append(avg_test_rmse)"
   ]
  },
  {
   "cell_type": "code",
   "execution_count": 33,
   "metadata": {},
   "outputs": [
    {
     "data": {
      "image/png": "[encoded data removed]",
      "text/plain": [
       "<matplotlib.figure.Figure at 0x1184b2150>"
      ]
     },
     "metadata": {},
     "output_type": "display_data"
    }
   ],
   "source": [
    "import matplotlib.pyplot as plt\n",
    "\n",
    "plt.plot(neighbors_range, train_rmse_list, label = \"train_rmse\")\n",
    "plt.plot(neighbors_range, test_rmse_list, label = \"test_rmse\")\n",
    "plt.xlabel('Number of Neighbors')\n",
    "plt.ylabel('RMSE')\n",
    "plt.legend(loc = 1, fancybox = True, framealpha = 0.5, prop = {'size': 8})\n",
    "\n",
    "plt.show()"
   ]
  },
  {
   "cell_type": "code",
   "execution_count": null,
   "metadata": {
    "collapsed": true
   },
   "outputs": [],
   "source": []
  }
 ],
 "metadata": {
  "kernelspec": {
   "display_name": "Python 2",
   "language": "python",
   "name": "python2"
  },
  "language_info": {
   "codemirror_mode": {
    "name": "ipython",
    "version": 2
   },
   "file_extension": ".py",
   "mimetype": "text/x-python",
   "name": "python",
   "nbconvert_exporter": "python",
   "pygments_lexer": "ipython2",
   "version": "2.7.14"
  }
 },
 "nbformat": 4,
 "nbformat_minor": 2
}
